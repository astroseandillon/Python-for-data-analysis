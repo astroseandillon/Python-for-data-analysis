{
 "cells": [
  {
   "cell_type": "markdown",
   "id": "be05da58-ce57-4848-a1ce-114b9790e164",
   "metadata": {},
   "source": [
    "### Problem 1 Feedback (8 pts)\n",
    "\n",
    "\n",
    "* Rate your knowledge of Python syntax prior to starting this course (1 = no knowledge, 10 = highly proficient)\n",
    "* Rate your knowledge of Python syntax at the end of this course (1 = no knowledge, 10 = highly proficient) \n",
    "\n",
    "* Rate your knowledge of core Python packages (NumPy, SciPy, Matplotlib) prior to starting this course (1 = no knowledge, 10 = highly proficient)\n",
    "* Rate your knowledge of core Python packages (NumPy, SciPy, Matplotlib) at the end of this course (1 = no knowledge, 10 = highly proficient) \n",
    "\n",
    "* Rate your knowledge of astronomy-specific Python packages (AstroPy, AstroQuery,Photutils) at the start of this course (1 = no knowledge, 10 = highly proficient)\n",
    "* Rate your knowledge of astronomy-specific Python packages (AstroPy, AstroQuery,Photutils) at the end of this course\n",
    " \n",
    "* Which topics you would have like to have covered in this class that were not covered?\n",
    "* Which, if any, topics do you feel were excessively covered?\n"
   ]
  },
  {
   "cell_type": "code",
   "execution_count": 4,
   "id": "73f2a874-f2ac-4b3b-b8c4-283c3f58492f",
   "metadata": {},
   "outputs": [],
   "source": [
    "# pre-course python syntax ============ 7\n",
    "# post-course python syntax =========== 9\n",
    "\n",
    "# pre-course core packages ============ 7\n",
    "# post-course core packages =========== 10\n",
    "\n",
    "# pre-course astropy ================== 4\n",
    "# post-course astropy ================= 8\n",
    "\n",
    "preferred_topics = ['more modeling work',\n",
    "                    'integration techniques',\n",
    "                    'code optimization for supercomputers']\n",
    "\n",
    "overcovered_topics = ['n/a']"
   ]
  },
  {
   "cell_type": "markdown",
   "id": "735b5cf9-e7d9-4aa5-a7d9-879cc81a55d8",
   "metadata": {},
   "source": [
    "### Problem 2 Astrometry and Photometry with Photutils (2 pts; + 3 possible extra credit point)\n",
    "\n",
    "The file \"star_nopsfsub.fits\" is an unsaturated image of the star (which should be in the middle of the image).  The file \"psfsub.fits\" is the same image with the stellar halo removed to flatten the background and reveal a planet-mass companion nearly due-west of the star (it's at an x position of about 320).\n",
    "\n",
    "Assume that the pixel scale is roughly 9.952 milliarcseconds/pixel and that the image is rotated perfectly north-up, east-left.\n",
    "\n",
    "* read in this file using astropy functions\n",
    "\n",
    "* using photutils, compute the centroid of the planet-mass companion's position in pixel values (x and y).   Then, given the pixel scale, compute its position in arc-seconds in units [East, North] _relative_ to the star. \n",
    "\n",
    "    (again, the image is north-up, east-left: so objects east of the star will have a negative x value and vice versa. If its position were 0.5 arcseconds east and -0.7 arcseconds south of the star then you would report this as [East, North] = [0.5,-0.7]).\n",
    "    \n",
    "    \n",
    "* using photutils, plot the radial-profile of the star.  Find where the star's brightness roughly (emphasis on **roughly**!) decreases to about half its peak value: round up to the nearest integer and set this value to be the aperture radius.\n",
    "\n",
    "\n",
    "* Compute photometry of the star (from \"nopsfsub\" and the companion (from \"psfsub\") with this aperture radius both in units of counts.  Then compute the contrast between the star and the planet in units of magnitudes (note: do not overthink this: it's as simple as it sounds).\n"
   ]
  },
  {
   "cell_type": "markdown",
   "id": "38084e55-9f86-4d5c-b886-f546643467a6",
   "metadata": {},
   "source": [
    "**Extra Credit** (3 points)\n",
    "\n",
    "- Display the image as shown below\n",
    " ![](./planetdiscovery.png)(2 points)\n",
    "\n",
    " \n",
    "- What is the name of this planet? (1 point)\n",
    "\n",
    " \n",
    "\n",
    "Hints: \n",
    "\n",
    "* to figure out a good initial guess for the centroid positions, try doing the extra credit part by displaying the image using Matplotlib: the notes give a good recipe for how to do this.\n",
    "\n",
    "* look at the notes on photutils VERY closely to figure out how to plot the radial profile.   The answer for the half-peak value will be in between two integers: again, round up to get the aperture radius you should use.\n",
    "* you do not need to compute astrometric errors or photometric errors"
   ]
  },
  {
   "cell_type": "code",
   "execution_count": null,
   "id": "03259fbb-1cd1-489e-8a6a-f3f265728f86",
   "metadata": {},
   "outputs": [],
   "source": []
  }
 ],
 "metadata": {
  "kernelspec": {
   "display_name": "Python 3 (ipykernel)",
   "language": "python",
   "name": "python3"
  },
  "language_info": {
   "codemirror_mode": {
    "name": "ipython",
    "version": 3
   },
   "file_extension": ".py",
   "mimetype": "text/x-python",
   "name": "python",
   "nbconvert_exporter": "python",
   "pygments_lexer": "ipython3",
   "version": "3.12.4"
  }
 },
 "nbformat": 4,
 "nbformat_minor": 5
}
