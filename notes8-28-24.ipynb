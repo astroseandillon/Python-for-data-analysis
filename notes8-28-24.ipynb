{
 "cells": [
  {
   "cell_type": "markdown",
   "id": "e80bcd67-7f24-49e3-8e48-018f8ec3341c",
   "metadata": {},
   "source": [
    "Different Data types\n"
   ]
  },
  {
   "cell_type": "markdown",
   "id": "1a3c3d94-6f74-4639-a787-f22c8eac626f",
   "metadata": {},
   "source": [
    "## Questions "
   ]
  },
  {
   "cell_type": "markdown",
   "id": "3de7a307-169a-474d-9874-93878409599e",
   "metadata": {},
   "source": [
    "how do you run things in the terminal???"
   ]
  },
  {
   "cell_type": "code",
   "execution_count": 7,
   "id": "21b76590-9257-428d-8048-e0ef917d2e13",
   "metadata": {},
   "outputs": [],
   "source": [
    "from sys import argv\n",
    "script, first, second = argv"
   ]
  },
  {
   "cell_type": "markdown",
   "id": "5e4b50fb-a864-461e-a959-c0e1ba09efb4",
   "metadata": {},
   "source": [
    "allows one to input scripts via command line"
   ]
  },
  {
   "cell_type": "code",
   "execution_count": null,
   "id": "7d210118-d158-4f27-b7ca-2a065721b7b3",
   "metadata": {},
   "outputs": [],
   "source": []
  }
 ],
 "metadata": {
  "kernelspec": {
   "display_name": "Python 3 (ipykernel)",
   "language": "python",
   "name": "python3"
  },
  "language_info": {
   "codemirror_mode": {
    "name": "ipython",
    "version": 3
   },
   "file_extension": ".py",
   "mimetype": "text/x-python",
   "name": "python",
   "nbconvert_exporter": "python",
   "pygments_lexer": "ipython3",
   "version": "3.12.4"
  }
 },
 "nbformat": 4,
 "nbformat_minor": 5
}
