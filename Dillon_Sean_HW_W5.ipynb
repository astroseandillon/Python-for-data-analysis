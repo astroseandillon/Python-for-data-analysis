{
 "cells": [
  {
   "cell_type": "markdown",
   "id": "eb513d93-6c4b-42ab-a7b5-4bd70663ac89",
   "metadata": {},
   "source": [
    "# Homework Week 5\n",
    "\n",
    "\n",
    "##### Due September 25th"
   ]
  },
  {
   "cell_type": "markdown",
   "id": "67f8c704-653d-4b1f-945a-2bf0466bce12",
   "metadata": {},
   "source": [
    "### 1. Broadcasting"
   ]
  },
  {
   "cell_type": "code",
   "execution_count": 6,
   "id": "1341e5ff-5ae6-4a31-ad25-550bf803621d",
   "metadata": {},
   "outputs": [],
   "source": [
    "import numpy as np\n",
    "\n",
    "arr1=np.array([[1,2,3],[4,5,6],[7,8,9]])\n",
    "arr2=np.array([79,89,99])\n"
   ]
  },
  {
   "cell_type": "markdown",
   "id": "888b5d56-2e76-420e-a3e4-61006a76c726",
   "metadata": {},
   "source": [
    "#### a. Replace each column of arr1 by arr2"
   ]
  },
  {
   "cell_type": "code",
   "execution_count": 9,
   "id": "e7bb6fe4-501f-4668-b088-34f8466f957f",
   "metadata": {},
   "outputs": [
    {
     "name": "stdout",
     "output_type": "stream",
     "text": [
      "[[79 79 79]\n",
      " [89 89 89]\n",
      " [99 99 99]]\n"
     ]
    }
   ],
   "source": [
    "arr1[:] = arr2[:,np.newaxis]\n",
    "print(arr1)"
   ]
  },
  {
   "cell_type": "markdown",
   "id": "da12d879-274f-4c70-b85a-eb546a2e6f74",
   "metadata": {},
   "source": [
    "#### b. Replace each row of arr1 by arr2"
   ]
  },
  {
   "cell_type": "code",
   "execution_count": 13,
   "id": "f968f512-7925-40db-88a7-cfd6264dda3c",
   "metadata": {},
   "outputs": [
    {
     "name": "stdout",
     "output_type": "stream",
     "text": [
      "[[79 89 99]\n",
      " [79 89 99]\n",
      " [79 89 99]]\n"
     ]
    }
   ],
   "source": [
    "arr1[:] = arr2[np.newaxis,:]\n",
    "print(arr1)"
   ]
  },
  {
   "cell_type": "markdown",
   "id": "3c4c1444-119d-4774-8281-1fbbafc63a45",
   "metadata": {},
   "source": [
    "#### c. Replaces only the 2nd and 3rd column of arr by arr2"
   ]
  },
  {
   "cell_type": "code",
   "execution_count": 22,
   "id": "3a558520-1854-423a-900d-277e56c4dce7",
   "metadata": {},
   "outputs": [
    {
     "name": "stdout",
     "output_type": "stream",
     "text": [
      "[[ 1 79 79]\n",
      " [ 4 89 89]\n",
      " [ 7 99 99]]\n"
     ]
    }
   ],
   "source": [
    "arr1[:,1:] = arr2[:,np.newaxis]\n",
    "print(arr1)"
   ]
  },
  {
   "cell_type": "markdown",
   "id": "f0546d7c-2f6b-4be9-aaf6-eb9058d31b3d",
   "metadata": {},
   "source": [
    "### 2. Repeating Array Elements"
   ]
  },
  {
   "cell_type": "code",
   "execution_count": 26,
   "id": "46692f3e-d2b3-42db-9c62-f08b3c36f264",
   "metadata": {},
   "outputs": [],
   "source": [
    "a = np.arange(10,60,10)"
   ]
  },
  {
   "cell_type": "markdown",
   "id": "520df7d9-a4a5-4408-98c2-285479e34690",
   "metadata": {},
   "source": [
    "##### part 1 \n",
    "* use ``np.tile`` to repeat this array 5 times\n",
    "* use ``reshape`` to convert this array into a 2d matrix. With the ``Reshape`` command use\n",
    "i) the length of a\n",
    "ii) -1 to do the reshaping instead of hardcoding the dimensions\n",
    "* take the determinant of this matrix and report the result"
   ]
  },
  {
   "cell_type": "code",
   "execution_count": 47,
   "id": "daaeb23e-e959-4bce-934b-17bb07aa1105",
   "metadata": {},
   "outputs": [
    {
     "name": "stdout",
     "output_type": "stream",
     "text": [
      "[10 20 30 40 50 10 20 30 40 50 10 20 30 40 50 10 20 30 40 50 10 20 30 40\n",
      " 50]\n"
     ]
    }
   ],
   "source": [
    "b = np.tile(a,5)\n",
    "print(b)"
   ]
  },
  {
   "cell_type": "code",
   "execution_count": 69,
   "id": "835bcd6b-e703-441c-a5c2-384cb51a8ba5",
   "metadata": {},
   "outputs": [
    {
     "name": "stdout",
     "output_type": "stream",
     "text": [
      "[[10 20 30 40 50]\n",
      " [10 20 30 40 50]\n",
      " [10 20 30 40 50]\n",
      " [10 20 30 40 50]\n",
      " [10 20 30 40 50]]\n"
     ]
    }
   ],
   "source": [
    "c = np.reshape(np.tile(a,5),(len(a),-1))\n",
    "print(c)"
   ]
  },
  {
   "cell_type": "code",
   "execution_count": 71,
   "id": "7a9b3476-1c26-4507-8cd0-298526f6a792",
   "metadata": {},
   "outputs": [
    {
     "name": "stdout",
     "output_type": "stream",
     "text": [
      "The determinant of the matrix is 0.0\n"
     ]
    }
   ],
   "source": [
    "d = np.linalg.det(np.reshape(np.tile(a,5),(len(a),-1)))\n",
    "print(\"The determinant of the matrix is {}\".format(d))"
   ]
  },
  {
   "cell_type": "markdown",
   "id": "56acd45e-0836-449a-aa31-7324a3e17bee",
   "metadata": {},
   "source": [
    "#### part 2\n",
    "* now take the determinant of the matrix"
   ]
  },
  {
   "cell_type": "code",
   "execution_count": 78,
   "id": "808fe3d0-1881-4f1a-8536-ba626af4b683",
   "metadata": {},
   "outputs": [
    {
     "name": "stdout",
     "output_type": "stream",
     "text": [
      "The determinant of the matrix is 150.46244660000002\n"
     ]
    }
   ],
   "source": [
    "a = np.array([[1,2.333,-4],[-4,-3,-0.001],[-.2,5.3,9.99]])\n",
    "print(\"The determinant of the matrix is {}\".format(np.linalg.det(a)))"
   ]
  },
  {
   "cell_type": "markdown",
   "id": "7088fd74-d918-4139-a158-20fdd82b64a4",
   "metadata": {},
   "source": [
    "#### part 3\n",
    "* now flatten the arrray in part 2\n",
    "* use ``np.tile`` to repeat this array 9 times and follow the steps in part 1 to compute the determinant"
   ]
  },
  {
   "cell_type": "code",
   "execution_count": 83,
   "id": "08ce3a09-3e25-4e7c-a4db-59aeaa2556b9",
   "metadata": {},
   "outputs": [
    {
     "name": "stdout",
     "output_type": "stream",
     "text": [
      "[ 1.000e+00  2.333e+00 -4.000e+00 -4.000e+00 -3.000e+00 -1.000e-03\n",
      " -2.000e-01  5.300e+00  9.990e+00]\n",
      "\n",
      "The determinant of the matrix is 0.0\n"
     ]
    }
   ],
   "source": [
    "aflat = a.flatten()\n",
    "print(aflat)\n",
    "print('')\n",
    "d = np.linalg.det(np.reshape(np.tile(aflat,9),(len(aflat),-1)))\n",
    "print(\"The determinant of the matrix is {}\".format(d))"
   ]
  },
  {
   "cell_type": "markdown",
   "id": "95490045-8c1a-4e26-8675-6c5b2cc84491",
   "metadata": {},
   "source": [
    "### 3. Solving a system of linear equations\n",
    "Consider this system of linear equations :\n",
    "\n",
    "8$a_{o}$ + 6$a_{1}$ - 10$a_{2}$ = 2\n",
    "\n",
    "-4$a_{o}$ - 8$a_{1}$ + 10$a_{2}$ = 5\n",
    "\n",
    "16$a_{o}$ + 16$a_{1}$  = -3\n",
    "\n",
    "* Solve this system of equations with i) ``np.linalg.solve`` and ii) ``np.linalg.inv`` + ``np.dot``\n",
    "\n",
    "* Verify that the values for $a_{o}$, $a_{1}$, and $a_{2}$ provide an exact solution (hint: verify that the lefthand side of the equation yields the righthand side).\n"
   ]
  },
  {
   "cell_type": "code",
   "execution_count": 94,
   "id": "4d0bc9e5-d62f-43f8-831c-0cccf3180e28",
   "metadata": {},
   "outputs": [
    {
     "name": "stdout",
     "output_type": "stream",
     "text": [
      "[[  8   6 -10]\n",
      " [ -4  -8  10]\n",
      " [ 16  16   0]]\n",
      "[ 2  5 -3]\n",
      "[ 1.10416667 -1.29166667 -0.09166667]\n",
      "[ 2.  5. -3.]\n"
     ]
    }
   ],
   "source": [
    "a = np.array([[8,6,-10],[-4,-8,10],[16,16,0]])\n",
    "print(a)\n",
    "b = np.array([2,5,-3])\n",
    "print(b)\n",
    "x = np.linalg.solve(a,b)\n",
    "print(x)\n",
    "\n",
    "print(np.dot(a,x))"
   ]
  },
  {
   "cell_type": "code",
   "execution_count": 92,
   "id": "88cf368e-7f8d-4feb-bcc9-06928dd079e9",
   "metadata": {},
   "outputs": [
    {
     "data": {
      "text/plain": [
       "True"
      ]
     },
     "execution_count": 92,
     "metadata": {},
     "output_type": "execute_result"
    }
   ],
   "source": [
    "np.allclose(np.dot(a,x),b)"
   ]
  },
  {
   "cell_type": "code",
   "execution_count": 108,
   "id": "a326b3ce-2366-4a4e-859e-aed0ed3ed0b0",
   "metadata": {},
   "outputs": [
    {
     "name": "stdout",
     "output_type": "stream",
     "text": [
      "[ 1.10416667 -1.29166667 -0.09166667]\n"
     ]
    }
   ],
   "source": [
    "y = np.linalg.inv(a)\n",
    "z = np.dot(y,b)\n",
    "print(z)"
   ]
  },
  {
   "cell_type": "markdown",
   "id": "10a6bf96-fc06-4aa7-8289-086fc654d6a3",
   "metadata": {},
   "source": [
    "### 4. Performing SVD"
   ]
  },
  {
   "cell_type": "markdown",
   "id": "a2e0be05-41df-4f0c-a4d9-9ad989b204f7",
   "metadata": {},
   "source": [
    "Consider the matrix ...\n",
    "\n",
    "np.array([[1,2,3],[4,5,6],[7,8,9]])\n",
    "\n",
    "* What happens when you try to invert this matrix directly?  Why? How could you have determined this outcome ahead of time?\n",
    "\n",
    "* Use SVD to decompose this matrix.  Based on the singular values, where should you truncate $\\Sigma$ (i.e. which ``rcond`` value)?\n",
    "\n",
    "* Given $\\Sigma$ what is the \"effective\" rank of the (decomposed) matrix?\n",
    "\n"
   ]
  },
  {
   "cell_type": "code",
   "execution_count": 8,
   "id": "ad7fe7d5-5c78-45fd-acd1-132bcb5b7277",
   "metadata": {},
   "outputs": [],
   "source": [
    "a = np.array([[1,2,3],[4,5,6],[7,8,9]])"
   ]
  },
  {
   "cell_type": "code",
   "execution_count": null,
   "id": "f23112ce-ff1a-4472-809a-f486d368d8fa",
   "metadata": {},
   "outputs": [],
   "source": []
  }
 ],
 "metadata": {
  "kernelspec": {
   "display_name": "Python 3 (ipykernel)",
   "language": "python",
   "name": "python3"
  },
  "language_info": {
   "codemirror_mode": {
    "name": "ipython",
    "version": 3
   },
   "file_extension": ".py",
   "mimetype": "text/x-python",
   "name": "python",
   "nbconvert_exporter": "python",
   "pygments_lexer": "ipython3",
   "version": "3.12.4"
  }
 },
 "nbformat": 4,
 "nbformat_minor": 5
}
