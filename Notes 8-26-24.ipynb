{
 "cells": [
  {
   "cell_type": "markdown",
   "id": "5d42a912",
   "metadata": {},
   "source": [
    "# Class 1"
   ]
  },
  {
   "cell_type": "code",
   "execution_count": 1,
   "id": "2913751d",
   "metadata": {},
   "outputs": [
    {
     "name": "stdout",
     "output_type": "stream",
     "text": [
      "hello world\n"
     ]
    }
   ],
   "source": [
    "print('hello world')"
   ]
  },
  {
   "cell_type": "code",
   "execution_count": 6,
   "id": "10e9318c",
   "metadata": {},
   "outputs": [],
   "source": [
    "import numpy\n",
    "import scipy\n",
    "import matplotlib\n",
    "import pandas\n",
    "import seaborn\n",
    "import astropy\n"
   ]
  },
  {
   "cell_type": "code",
   "execution_count": 8,
   "id": "384d3213",
   "metadata": {},
   "outputs": [],
   "source": [
    "import astroquery\n"
   ]
  },
  {
   "cell_type": "code",
   "execution_count": null,
   "id": "c7f795f9",
   "metadata": {},
   "outputs": [],
   "source": []
  }
 ],
 "metadata": {
  "kernelspec": {
   "display_name": "Python 3",
   "language": "python",
   "name": "python3"
  },
  "language_info": {
   "codemirror_mode": {
    "name": "ipython",
    "version": 3
   },
   "file_extension": ".py",
   "mimetype": "text/x-python",
   "name": "python",
   "nbconvert_exporter": "python",
   "pygments_lexer": "ipython3",
   "version": "3.7.9"
  }
 },
 "nbformat": 4,
 "nbformat_minor": 5
}
