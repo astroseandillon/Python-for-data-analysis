{
 "cells": [
  {
   "cell_type": "code",
   "execution_count": 3,
   "id": "a263032c-b79d-4bd3-908d-34733bb6aa0b",
   "metadata": {},
   "outputs": [],
   "source": [
    "episode = ['Eegah', 'Deathstalker', 'Space Mutiny']\n",
    "line = ['Watch out for Snakes', \"He's Batman\", \"Big McLarge Huge\"]\n",
    "season = [5,7,8]\n"
   ]
  },
  {
   "cell_type": "code",
   "execution_count": null,
   "id": "b72bd946-8d28-442b-a600-e32b75ead411",
   "metadata": {},
   "outputs": [],
   "source": []
  }
 ],
 "metadata": {
  "kernelspec": {
   "display_name": "Python 3 (ipykernel)",
   "language": "python",
   "name": "python3"
  },
  "language_info": {
   "codemirror_mode": {
    "name": "ipython",
    "version": 3
   },
   "file_extension": ".py",
   "mimetype": "text/x-python",
   "name": "python",
   "nbconvert_exporter": "python",
   "pygments_lexer": "ipython3",
   "version": "3.12.4"
  }
 },
 "nbformat": 4,
 "nbformat_minor": 5
}
