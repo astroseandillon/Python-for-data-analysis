{
 "cells": [
  {
   "cell_type": "markdown",
   "id": "0bf250f5-952c-4921-9fa0-c46f94756ae7",
   "metadata": {},
   "source": [
    "# Homework Week 2"
   ]
  },
  {
   "cell_type": "markdown",
   "id": "f1e56560-1048-40e1-9bc7-deb460a065d1",
   "metadata": {},
   "source": [
    "due September 9th"
   ]
  },
  {
   "cell_type": "markdown",
   "id": "05170853-ba3a-4779-b790-c903c9094a33",
   "metadata": {},
   "source": [
    "### 1. Formatted Printing"
   ]
  },
  {
   "cell_type": "code",
   "execution_count": 8,
   "id": "70cb9a7d-c3cd-4a0f-b9d0-1f5f83b9536f",
   "metadata": {},
   "outputs": [
    {
     "name": "stdout",
     "output_type": "stream",
     "text": [
      "help, the value for a is 8.3 and for b is 10\n"
     ]
    }
   ],
   "source": [
    "a,b=8.3,10\n",
    "print(\"help, the value for a is {} and for b is {}\".format(a,b))"
   ]
  },
  {
   "cell_type": "code",
   "execution_count": 30,
   "id": "497f2f07-d1e8-475c-a449-d054f0b22ae6",
   "metadata": {},
   "outputs": [
    {
     "name": "stdout",
     "output_type": "stream",
     "text": [
      "help, the value for a is 8 and for b is 1.000000e+01\n"
     ]
    }
   ],
   "source": [
    "a,b=8.3,10\n",
    "print(\"help, the value for a is {0:.0f} and for b is {1:.6e}\".format(a,b))"
   ]
  },
  {
   "cell_type": "markdown",
   "id": "2162f90e",
   "metadata": {},
   "source": [
    "### 2. Formatted Printing and Writing"
   ]
  },
  {
   "cell_type": "markdown",
   "id": "602b85ee",
   "metadata": {},
   "source": [
    "Using the Wikipedia page here -- https://en.wikipedia.org/wiki/List_of_nearest_bright_stars -- create a file called nearestAstars.txt and populate it with the following two lines:"
   ]
  },
  {
   "cell_type": "markdown",
   "id": "9dd90913",
   "metadata": {},
   "source": [
    "The nearest A star is Sirius at a distance of 2.638 parsecs\n",
    "the second nearest A stars is Altair at a distance of 5.1227 parsecs\n"
   ]
  },
  {
   "cell_type": "code",
   "execution_count": 1,
   "id": "2a27b5a3-8de3-42b7-a4bb-276d9e38f4c1",
   "metadata": {},
   "outputs": [],
   "source": [
    "def ly_to_psc(dis_ly):\n",
    "    psc = dis_ly / 3.26\n",
    "    return psc\n",
    "\n",
    "a_star0_name = 'Sirius'\n",
    "a_star0_dist = 8.60 #lightyears\n",
    "\n",
    "a_star1_name = 'Altair'\n",
    "a_star1_dist = 16.7\n",
    "\n",
    "f = open('nearestAstars.txt', 'w')\n",
    "f.write('The nearest A star is {0} at a distance of {1:.3f} parsecs '.format(a_star0_name, ly_to_psc(a_star0_dist)))\n",
    "f.write('the second nearest A star is {0} at a distance of {1:.4f} parsecs'.format(a_star1_name, ly_to_psc(a_star1_dist)))\n",
    "f.close()"
   ]
  },
  {
   "cell_type": "markdown",
   "id": "9741f282-5022-4c64-bd78-4965665513c1",
   "metadata": {},
   "source": [
    "### 6. Dictionaries\n",
    "\n",
    "Use three defined dictionaries with the following entries -- 1. city + country abbreviation, 2. country abbreviation + skyscraper, 3. skyscraper + height.\n",
    "\n",
    "Assume the following building heights (i.e. this will be dictionary number 3): Petronas Towers - 1483 ft WTC - 1776 ft Eiffel Tower - 1083 ft\n",
    "\n",
    "Write a for-loop that prints out the country, abbreviation, city, building, and height converted to au (assume 1 foot = 2.0375e-12 au):"
   ]
  },
  {
   "cell_type": "code",
   "execution_count": 5,
   "id": "eeedfd07-2060-4a8d-bd05-a7a834d69e9f",
   "metadata": {},
   "outputs": [
    {
     "name": "stdout",
     "output_type": "stream",
     "text": [
      "The tallest building in the city of Paris, FR is the Eiffel Tower with a height of 2.207e-09 au\n",
      "The tallest building in the city of New York, USA is the WTC with a height of 3.619e-09 au\n",
      "The tallest building in the city of Kuala Lumpur, MY is the Petronas Towers with a height of 3.022e-09 au\n"
     ]
    }
   ],
   "source": [
    "cities = {\"Paris\": \"FR\", \n",
    "          \"New York\": \"USA\",\n",
    "          \"Kuala Lumpur\": \"MY\"}\n",
    "towers = {\"FR\": \"Eiffel Tower\",\n",
    "          \"USA\": \"WTC\",\n",
    "          \"MY\": \"Petronas Towers\"}\n",
    "height = {\"Eiffel Tower\": 1083,\n",
    "          \"WTC\": 1776,\n",
    "          \"Petronas Towers\": 1483}\n",
    "\n",
    "def ht_au(ft):\n",
    "    return ft*2.0375e-12\n",
    "\n",
    "\n",
    "\n",
    "for c in cities:\n",
    "    print(\"The tallest building in the city of {}, {} is the {} with a height of {:.3e} au\".format(\n",
    "        c, cities[c], towers[cities[c]], ht_au(height[towers[cities[c]]])))\n",
    "                                                                                               \n",
    "\n",
    "\n",
    "\n"
   ]
  },
  {
   "cell_type": "markdown",
   "id": "f32a5081-6183-40bb-ad00-1f4a7be35b5b",
   "metadata": {},
   "source": [
    "### 7. Lists, Arrays, Loops, and Type Conversions\n",
    "\n",
    "Start with a list 4 elements long, including a mix of floating point numbers and integers: π , e, 3.1 and 5.\n",
    "\n",
    "Remove 3.1 using the remove function and array indexing.\n",
    "\n",
    "Append Euler's gamma constant to the list\n",
    "\n",
    "Write a line of code that prints out a, repeated 3 times\n",
    "\n",
    "Write a line of code that prints out each element of a multiplied by 3\n",
    "\n",
    "Write a for-loop that prints out each element of a multiplied by 3"
   ]
  },
  {
   "cell_type": "code",
   "execution_count": 25,
   "id": "2986db08-a2db-4503-9b78-1df8cf19a8a2",
   "metadata": {},
   "outputs": [
    {
     "name": "stdout",
     "output_type": "stream",
     "text": [
      "3.141592653589793\n",
      "2.718281828459045\n",
      "5\n",
      "0.5772156649015329\n",
      "9.42477796076938\n",
      "8.154845485377136\n",
      "15\n",
      "1.7316469947045987\n",
      "9.42477796076938 8.154845485377136 15 1.7316469947045987\n"
     ]
    }
   ],
   "source": [
    "import numpy as np\n",
    "\n",
    "\n",
    "coollist = [np.pi, np.e, 3.1, 5]\n",
    "\n",
    "coollist.remove(3.1)\n",
    "\n",
    "coollist.append(np.euler_gamma)\n",
    "\n",
    "\n",
    "\n",
    "for i in range(len(coollist)):\n",
    "    print(coollist[i])\n",
    "\n",
    "print(coollist * 3)\n",
    "\n",
    "newlist = []\n",
    "for i in range(len(coollist)):\n",
    "    newlist.append(coollist[i]*3)\n",
    "    print(newlist[i])\n",
    "\n",
    "print(coollist[0]*3, coollist[1]*3, coollist[2]*3, coollist[3]*3)\n",
    "\n",
    "\n",
    "\n"
   ]
  },
  {
   "cell_type": "markdown",
   "id": "6a710054-587d-49a8-ba19-fe48fb894617",
   "metadata": {},
   "source": [
    "### 8. Slicing"
   ]
  },
  {
   "cell_type": "code",
   "execution_count": 15,
   "id": "4c5d3d26-37e9-4e62-9043-6a7ea3bc3c53",
   "metadata": {},
   "outputs": [
    {
     "data": {
      "text/plain": [
       "[10, 9, 8, 6, 5, 3, 2]"
      ]
     },
     "execution_count": 15,
     "metadata": {},
     "output_type": "execute_result"
    }
   ],
   "source": [
    "a = [2,3,5,6,8,9,10]\n",
    "\n",
    "\n",
    "a[::2]\n",
    "a[3:-1]\n",
    "a[::-1]"
   ]
  },
  {
   "cell_type": "markdown",
   "id": "133b690e-a5ad-410c-8d6c-757d1de38c7c",
   "metadata": {},
   "source": [
    "### 9. Slicing"
   ]
  },
  {
   "cell_type": "code",
   "execution_count": 17,
   "id": "46235e3e-8801-46ce-9583-c12a8cb2d8bd",
   "metadata": {},
   "outputs": [],
   "source": [
    "aa = np.array(a)"
   ]
  },
  {
   "cell_type": "code",
   "execution_count": 5,
   "id": "8a15c48d-7412-4341-b437-7e273b059dd4",
   "metadata": {},
   "outputs": [],
   "source": [
    "import numpy as np"
   ]
  },
  {
   "cell_type": "code",
   "execution_count": 21,
   "id": "7ccf3ff1-a628-45ed-ad31-537054af0145",
   "metadata": {},
   "outputs": [
    {
     "name": "stdout",
     "output_type": "stream",
     "text": [
      "[ 6  8  9 10]\n"
     ]
    }
   ],
   "source": [
    "bb = []\n",
    "for i in range(len(aa)):\n",
    "    if i > 2:\n",
    "        bb.append(aa[i])\n",
    "\n",
    "newarray = np.array(bb)\n",
    "print(newarray)"
   ]
  },
  {
   "cell_type": "code",
   "execution_count": 25,
   "id": "3f68b88c-3204-40da-a449-9a3e9e68c5d9",
   "metadata": {},
   "outputs": [
    {
     "name": "stdout",
     "output_type": "stream",
     "text": [
      "[ 2  8  9 10]\n"
     ]
    }
   ],
   "source": [
    "cc = []\n",
    "for i in range(len(aa)):\n",
    "    if i ==0:\n",
    "        cc.append(aa[i])\n",
    "    elif i > 3:\n",
    "        cc.append(aa[i])\n",
    "\n",
    "lastarray = np.array(cc)\n",
    "print(lastarray)"
   ]
  },
  {
   "cell_type": "code",
   "execution_count": 3,
   "id": "6c009f86-b471-4b7c-9cf7-0649e279ae8f",
   "metadata": {},
   "outputs": [],
   "source": [
    "import numpy as np\n",
    "import webbrowser as wb\n",
    "\n",
    "def gold_room():\n",
    "    print(\"This room is full of gold.  How many gold coins do you take?\")\n",
    "\n",
    "    try:\n",
    "       choice = int(input(\"> \"))\n",
    "    except:\n",
    "       dead(\"You chose a non-integer amount of coins. \\n Trying in vain to break one of the coins into pieces, you upset the bear who rips your face off.\")\n",
    "\n",
    "    if how_much < 50:\n",
    "        print(\"Nice, you're not greedy.  You escape the bear on your way out.  You Win!\")\n",
    "        exit(0)\n",
    "    else:\n",
    "        dead(\"You drop coins as you flee, upsetting the bear who rips your face off\")\n",
    "\n",
    "\n",
    "def bear_room():\n",
    "    print(\"There is a bear here.\")\n",
    "    print(\"The bear has a bunch of honey.\")\n",
    "    print(\"The fat bear is in front of another door.\")\n",
    "    print(\"How are you going to move the bear?\")\n",
    "    bear_moved = False\n",
    "\n",
    "    while True:\n",
    "        if bear_moved == True:\n",
    "         choice = input(\"> [take honey,taunt bear, open door] \")\n",
    "        else:\n",
    "         choice = input(\"> [take honey,taunt bear] \")\n",
    "\n",
    "        if choice == \"take honey\":\n",
    "            dead(\"The bear looks at you then slaps your face off.\")\n",
    "        elif choice == \"taunt bear\" and not bear_moved:\n",
    "            print(\"The bear has moved from the door. You can go through it now.\")\n",
    "            bear_moved = True\n",
    "        elif choice == \"taunt bear\" and bear_moved:\n",
    "            dead(\"The bear gets pissed off and chews your leg off.\")\n",
    "        elif choice == \"open door\" and bear_moved:\n",
    "            gold_room()\n",
    "        else:\n",
    "            print(\"I got no idea what that means.\")\n",
    "\n",
    "\n",
    "def cthulhu_room():\n",
    "    print(\"Here you see the great evil Cthulhu.\")\n",
    "    print(\"He, it, whatever stares at you and you go insane.\")\n",
    "    print(\"Do you flee for your life or eat your head?\")\n",
    "\n",
    "    choice = input(\"> \")\n",
    "\n",
    "    if \"flee\" in choice:\n",
    "        start()\n",
    "    elif \"head\" in choice:\n",
    "        dead(\"Well that was tasty!\")\n",
    "    else:\n",
    "        cthulhu_room()\n",
    "\n",
    "def dead(why):\n",
    "    print(why, \"Game Over!\")\n",
    "    exit(0)\n",
    "\n",
    "def rickroom():\n",
    "    print(\"You see a brightly illuminated man in a dark alley.\")\n",
    "    print(\"He swears an oath of eternal loyalty.\")\n",
    "    print(\"Do you accept his oath? [y/n]\")\n",
    "\n",
    "    choice = input(\"> \")\n",
    "\n",
    "    if \"y\" in choice:\n",
    "        print(\"You chose well! He leads you to safety\")\n",
    "        exit(0)\n",
    "    elif \"n\" in choice:\n",
    "        print(\"The man is betrayed\")\n",
    "        print(\"He flips a coin to determine your fate\")\n",
    "        coin = np.random.rand()\n",
    "        if coin > 0.5:\n",
    "            bear_room()\n",
    "        else:\n",
    "            wb.open(\"https://youtu.be/dQw4w9WgXcQ?si=yed8JVLsztYiRNjp\")\n",
    "            dead(\"You are struck down by Rick the Faithful\")\n",
    "\n",
    "\n",
    "\n",
    "\n",
    "\n",
    "\n",
    "def start():\n",
    "    print(\"You are in a dark room.\")\n",
    "    print(\"There is a door to your right, left, and in front of you.\")\n",
    "    print(\"Which one do you take [right, left, front]?\")\n",
    "\n",
    "    choice = input(\"> \")\n",
    "\n",
    "    if choice == \"left\":\n",
    "        bear_room()\n",
    "    elif choice == \"right\":\n",
    "        cthulhu_room()\n",
    "    elif choice == \"front\":\n",
    "        rickroom()\n",
    "    else:\n",
    "        dead(\"You stumble around the room until you starve.\")"
   ]
  },
  {
   "cell_type": "code",
   "execution_count": 5,
   "id": "cf97b409-1cf5-4f9a-b8c1-8b5a8eba7fc8",
   "metadata": {},
   "outputs": [
    {
     "name": "stdout",
     "output_type": "stream",
     "text": [
      "You are in a dark room.\n",
      "There is a door to your right, left, and in front of you.\n",
      "Which one do you take [right, left, front]?\n"
     ]
    },
    {
     "name": "stdin",
     "output_type": "stream",
     "text": [
      ">  front\n"
     ]
    },
    {
     "name": "stdout",
     "output_type": "stream",
     "text": [
      "You see a brightly illuminated man in a dark alley.\n",
      "He swears an oath of eternal loyalty.\n",
      "Do you accept his oath? [y/n]\n"
     ]
    },
    {
     "name": "stdin",
     "output_type": "stream",
     "text": [
      ">  n\n"
     ]
    },
    {
     "name": "stdout",
     "output_type": "stream",
     "text": [
      "The man is betrayed\n",
      "He flips a coin to determine your fate\n",
      "You are struck down by Rick the Faithful Game Over!\n"
     ]
    }
   ],
   "source": [
    "start()"
   ]
  },
  {
   "cell_type": "code",
   "execution_count": null,
   "id": "063e24e6-baff-40b4-a7d8-e74e118f1f11",
   "metadata": {},
   "outputs": [],
   "source": []
  }
 ],
 "metadata": {
  "kernelspec": {
   "display_name": "Python 3 (ipykernel)",
   "language": "python",
   "name": "python3"
  },
  "language_info": {
   "codemirror_mode": {
    "name": "ipython",
    "version": 3
   },
   "file_extension": ".py",
   "mimetype": "text/x-python",
   "name": "python",
   "nbconvert_exporter": "python",
   "pygments_lexer": "ipython3",
   "version": "3.12.4"
  }
 },
 "nbformat": 4,
 "nbformat_minor": 5
}
