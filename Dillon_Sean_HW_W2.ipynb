{
 "cells": [
  {
   "cell_type": "markdown",
   "id": "0bf250f5-952c-4921-9fa0-c46f94756ae7",
   "metadata": {},
   "source": [
    "# Homework Week 2"
   ]
  },
  {
   "cell_type": "markdown",
   "id": "f1e56560-1048-40e1-9bc7-deb460a065d1",
   "metadata": {},
   "source": [
    "due September 9th"
   ]
  },
  {
   "cell_type": "markdown",
   "id": "05170853-ba3a-4779-b790-c903c9094a33",
   "metadata": {},
   "source": [
    "### 1. Formatted Printing"
   ]
  },
  {
   "cell_type": "code",
   "execution_count": 8,
   "id": "70cb9a7d-c3cd-4a0f-b9d0-1f5f83b9536f",
   "metadata": {},
   "outputs": [
    {
     "name": "stdout",
     "output_type": "stream",
     "text": [
      "help, the value for a is 8.3 and for b is 10\n"
     ]
    }
   ],
   "source": [
    "a,b=8.3,10\n",
    "print(\"help, the value for a is {} and for b is {}\".format(a,b))"
   ]
  },
  {
   "cell_type": "code",
   "execution_count": 30,
   "id": "497f2f07-d1e8-475c-a449-d054f0b22ae6",
   "metadata": {},
   "outputs": [
    {
     "name": "stdout",
     "output_type": "stream",
     "text": [
      "help, the value for a is 8 and for b is 1.000000e+01\n"
     ]
    }
   ],
   "source": [
    "a,b=8.3,10\n",
    "print(\"help, the value for a is {0:.0f} and for b is {1:.6e}\".format(a,b))"
   ]
  },
  {
   "cell_type": "markdown",
   "id": "2162f90e",
   "metadata": {},
   "source": [
    "### 2. Formatted Printing and Writing"
   ]
  },
  {
   "cell_type": "markdown",
   "id": "602b85ee",
   "metadata": {},
   "source": [
    "Using the Wikipedia page here -- https://en.wikipedia.org/wiki/List_of_nearest_bright_stars -- create a file called nearestAstars.txt and populate it with the following two lines:"
   ]
  },
  {
   "cell_type": "markdown",
   "id": "9dd90913",
   "metadata": {},
   "source": [
    "The nearest A star is Sirius at a distance of 2.638 parsecs\n",
    "the second nearest A stars is Altair at a distance of 5.1227 parsecs\n"
   ]
  },
  {
   "cell_type": "code",
   "execution_count": 15,
   "id": "1daab718",
   "metadata": {},
   "outputs": [
    {
     "name": "stdout",
     "output_type": "stream",
     "text": [
      "Index(['Star Designation', 'Star Designation.1', 'Stellar\\r\\nClass',\n",
      "       'Magnitude', 'Magnitude.1', 'Right\\r\\nAscension\\r\\n(J2000)',\n",
      "       'Declination (J2000)', 'Distance\\r\\n(Light-years)'],\n",
      "      dtype='object')\n"
     ]
    }
   ],
   "source": [
    "import numpy as np\n",
    "import pandas as pd\n",
    "df = pd.read_csv('List_of_nearest_bright_stars_2.csv')\n",
    "# data = np.genfromtxt('List_of_nearest_bright_stars_2.csv', unpack=True, dtype=str, delimiter=',')\n",
    "\n",
    "# print(df.head)\n",
    "print(df.columns)\n",
    "\n",
    "\n",
    "\n",
    "\n"
   ]
  },
  {
   "cell_type": "code",
   "execution_count": 17,
   "id": "5a31793f",
   "metadata": {},
   "outputs": [
    {
     "data": {
      "text/html": [
       "<div>\n",
       "<style scoped>\n",
       "    .dataframe tbody tr th:only-of-type {\n",
       "        vertical-align: middle;\n",
       "    }\n",
       "\n",
       "    .dataframe tbody tr th {\n",
       "        vertical-align: top;\n",
       "    }\n",
       "\n",
       "    .dataframe thead th {\n",
       "        text-align: right;\n",
       "    }\n",
       "</style>\n",
       "<table border=\"1\" class=\"dataframe\">\n",
       "  <thead>\n",
       "    <tr style=\"text-align: right;\">\n",
       "      <th></th>\n",
       "      <th>Star Designation</th>\n",
       "      <th>Star Designation.1</th>\n",
       "      <th>Stellar Class</th>\n",
       "      <th>Magnitude</th>\n",
       "      <th>Magnitude.1</th>\n",
       "      <th>Right\\r\\nAscension\\r\\n(J2000)</th>\n",
       "      <th>Declination (J2000)</th>\n",
       "      <th>Distance\\r\\n(Light-years)</th>\n",
       "    </tr>\n",
       "  </thead>\n",
       "  <tbody>\n",
       "    <tr>\n",
       "      <th>0</th>\n",
       "      <td>Star Designation</td>\n",
       "      <td>Star Designation</td>\n",
       "      <td>Stellar\\r\\nClass</td>\n",
       "      <td>Apparent</td>\n",
       "      <td>Absolute</td>\n",
       "      <td>Right\\r\\nAscension\\r\\n(J2000)</td>\n",
       "      <td>Declination (J2000)</td>\n",
       "      <td>Distance\\r\\n(Light-years)</td>\n",
       "    </tr>\n",
       "    <tr>\n",
       "      <th>1</th>\n",
       "      <td>Sun</td>\n",
       "      <td>Sun</td>\n",
       "      <td>G2V</td>\n",
       "      <td>−26.74</td>\n",
       "      <td>4.80</td>\n",
       "      <td>—</td>\n",
       "      <td>—</td>\n",
       "      <td>0</td>\n",
       "    </tr>\n",
       "    <tr>\n",
       "      <th>2</th>\n",
       "      <td>α Centauri</td>\n",
       "      <td>A</td>\n",
       "      <td>G2V</td>\n",
       "      <td>−0.01</td>\n",
       "      <td>4.34</td>\n",
       "      <td>14h 39m 36.50s</td>\n",
       "      <td>−60° 50′ 02.3″</td>\n",
       "      <td>4.34</td>\n",
       "    </tr>\n",
       "    <tr>\n",
       "      <th>3</th>\n",
       "      <td>α Centauri</td>\n",
       "      <td>B</td>\n",
       "      <td>K1V</td>\n",
       "      <td>1.35</td>\n",
       "      <td>5.71</td>\n",
       "      <td>14h 39m 35.08s</td>\n",
       "      <td>−60° 50′ 13.8″</td>\n",
       "      <td>4.34</td>\n",
       "    </tr>\n",
       "    <tr>\n",
       "      <th>4</th>\n",
       "      <td>Sirius (α Canis Majoris)</td>\n",
       "      <td>Sirius (α Canis Majoris)</td>\n",
       "      <td>A1V</td>\n",
       "      <td>−1.44</td>\n",
       "      <td>1.45</td>\n",
       "      <td>06h 45m 08.92s</td>\n",
       "      <td>−16° 42′ 58.0″</td>\n",
       "      <td>8.60</td>\n",
       "    </tr>\n",
       "    <tr>\n",
       "      <th>...</th>\n",
       "      <td>...</td>\n",
       "      <td>...</td>\n",
       "      <td>...</td>\n",
       "      <td>...</td>\n",
       "      <td>...</td>\n",
       "      <td>...</td>\n",
       "      <td>...</td>\n",
       "      <td>...</td>\n",
       "    </tr>\n",
       "    <tr>\n",
       "      <th>63</th>\n",
       "      <td>γ Pavonis</td>\n",
       "      <td>γ Pavonis</td>\n",
       "      <td>F6V</td>\n",
       "      <td>4.21</td>\n",
       "      <td>4.39</td>\n",
       "      <td>21h 26m 26.61s</td>\n",
       "      <td>−65° 21′ 58.3″</td>\n",
       "      <td>30.2</td>\n",
       "    </tr>\n",
       "    <tr>\n",
       "      <th>64</th>\n",
       "      <td>61 Ursae Majoris</td>\n",
       "      <td>61 Ursae Majoris</td>\n",
       "      <td>G8V</td>\n",
       "      <td>5.31</td>\n",
       "      <td>5.41</td>\n",
       "      <td>11h 41m 03.02s</td>\n",
       "      <td>+34° 12′ 05.9″</td>\n",
       "      <td>31.1</td>\n",
       "    </tr>\n",
       "    <tr>\n",
       "      <th>65</th>\n",
       "      <td>HR 4458 (in Hydra)</td>\n",
       "      <td>A</td>\n",
       "      <td>K0V</td>\n",
       "      <td>5.96</td>\n",
       "      <td>6.06</td>\n",
       "      <td>11h 34m 29.49s</td>\n",
       "      <td>−32° 49′ 52.8″</td>\n",
       "      <td>31.2</td>\n",
       "    </tr>\n",
       "    <tr>\n",
       "      <th>66</th>\n",
       "      <td>12 Ophiuchi</td>\n",
       "      <td>12 Ophiuchi</td>\n",
       "      <td>K2V</td>\n",
       "      <td>5.77</td>\n",
       "      <td>5.82</td>\n",
       "      <td>16h 36m 21.45s</td>\n",
       "      <td>−02° 19′ 28.5″</td>\n",
       "      <td>31.8</td>\n",
       "    </tr>\n",
       "    <tr>\n",
       "      <th>67</th>\n",
       "      <td>Gliese 638 (in Hercules)</td>\n",
       "      <td>Gliese 638 (in Hercules)</td>\n",
       "      <td>K7V</td>\n",
       "      <td>8.10</td>\n",
       "      <td>8.15</td>\n",
       "      <td>16h 45m 06.35s</td>\n",
       "      <td>+33° 30′ 33.2″</td>\n",
       "      <td>31.9</td>\n",
       "    </tr>\n",
       "  </tbody>\n",
       "</table>\n",
       "<p>68 rows × 8 columns</p>\n",
       "</div>"
      ],
      "text/plain": [
       "            Star Designation        Star Designation.1     Stellar Class  \\\n",
       "0           Star Designation          Star Designation  Stellar\\r\\nClass   \n",
       "1                        Sun                       Sun               G2V   \n",
       "2                 α Centauri                         A               G2V   \n",
       "3                 α Centauri                         B               K1V   \n",
       "4   Sirius (α Canis Majoris)  Sirius (α Canis Majoris)               A1V   \n",
       "..                       ...                       ...               ...   \n",
       "63                 γ Pavonis                 γ Pavonis               F6V   \n",
       "64          61 Ursae Majoris          61 Ursae Majoris               G8V   \n",
       "65        HR 4458 (in Hydra)                         A               K0V   \n",
       "66               12 Ophiuchi               12 Ophiuchi               K2V   \n",
       "67  Gliese 638 (in Hercules)  Gliese 638 (in Hercules)               K7V   \n",
       "\n",
       "   Magnitude Magnitude.1  Right\\r\\nAscension\\r\\n(J2000)  Declination (J2000)  \\\n",
       "0   Apparent    Absolute  Right\\r\\nAscension\\r\\n(J2000)  Declination (J2000)   \n",
       "1     −26.74        4.80                              —                    —   \n",
       "2      −0.01        4.34                 14h 39m 36.50s       −60° 50′ 02.3″   \n",
       "3       1.35        5.71                 14h 39m 35.08s       −60° 50′ 13.8″   \n",
       "4      −1.44        1.45                 06h 45m 08.92s       −16° 42′ 58.0″   \n",
       "..       ...         ...                            ...                  ...   \n",
       "63      4.21        4.39                 21h 26m 26.61s       −65° 21′ 58.3″   \n",
       "64      5.31        5.41                 11h 41m 03.02s       +34° 12′ 05.9″   \n",
       "65      5.96        6.06                 11h 34m 29.49s       −32° 49′ 52.8″   \n",
       "66      5.77        5.82                 16h 36m 21.45s       −02° 19′ 28.5″   \n",
       "67      8.10        8.15                 16h 45m 06.35s       +33° 30′ 33.2″   \n",
       "\n",
       "    Distance\\r\\n(Light-years)  \n",
       "0   Distance\\r\\n(Light-years)  \n",
       "1                           0  \n",
       "2                        4.34  \n",
       "3                        4.34  \n",
       "4                        8.60  \n",
       "..                        ...  \n",
       "63                       30.2  \n",
       "64                       31.1  \n",
       "65                       31.2  \n",
       "66                       31.8  \n",
       "67                       31.9  \n",
       "\n",
       "[68 rows x 8 columns]"
      ]
     },
     "execution_count": 17,
     "metadata": {},
     "output_type": "execute_result"
    }
   ],
   "source": [
    "# df['A' in 'Stellar\\nClass\n",
    "# df.columns\n",
    "df.rename(columns={'Stellar\\r\\nClass':'Stellar Class'})\n",
    "\n"
   ]
  },
  {
   "cell_type": "code",
   "execution_count": null,
   "id": "3f55bcb0-5951-41ff-9ec8-91924601b5c9",
   "metadata": {},
   "outputs": [],
   "source": []
  },
  {
   "cell_type": "code",
   "execution_count": 1,
   "id": "4ef6e7df",
   "metadata": {},
   "outputs": [],
   "source": [
    "def psc_to_ly(dis_psc):\n",
    "    ly = dis_psc/3.26\n",
    "    return ly\n"
   ]
  },
  {
   "cell_type": "code",
   "execution_count": null,
   "id": "d725aacf-2bfb-4a4e-ab0d-c3ca76e22489",
   "metadata": {},
   "outputs": [],
   "source": []
  }
 ],
 "metadata": {
  "kernelspec": {
   "display_name": "Python 3 (ipykernel)",
   "language": "python",
   "name": "python3"
  },
  "language_info": {
   "codemirror_mode": {
    "name": "ipython",
    "version": 3
   },
   "file_extension": ".py",
   "mimetype": "text/x-python",
   "name": "python",
   "nbconvert_exporter": "python",
   "pygments_lexer": "ipython3",
   "version": "3.12.4"
  }
 },
 "nbformat": 4,
 "nbformat_minor": 5
}
