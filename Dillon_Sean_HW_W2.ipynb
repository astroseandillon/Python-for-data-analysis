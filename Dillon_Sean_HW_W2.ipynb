{
 "cells": [
  {
   "cell_type": "markdown",
   "id": "0bf250f5-952c-4921-9fa0-c46f94756ae7",
   "metadata": {},
   "source": [
    "# Homework Week 2"
   ]
  },
  {
   "cell_type": "markdown",
   "id": "f1e56560-1048-40e1-9bc7-deb460a065d1",
   "metadata": {},
   "source": [
    "due September 9th"
   ]
  },
  {
   "cell_type": "markdown",
   "id": "05170853-ba3a-4779-b790-c903c9094a33",
   "metadata": {},
   "source": [
    "### 1. Formatted Printing"
   ]
  },
  {
   "cell_type": "code",
   "execution_count": 8,
   "id": "70cb9a7d-c3cd-4a0f-b9d0-1f5f83b9536f",
   "metadata": {},
   "outputs": [
    {
     "name": "stdout",
     "output_type": "stream",
     "text": [
      "help, the value for a is 8.3 and for b is 10\n"
     ]
    }
   ],
   "source": [
    "a,b=8.3,10\n",
    "print(\"help, the value for a is {} and for b is {}\".format(a,b))"
   ]
  },
  {
   "cell_type": "code",
   "execution_count": 30,
   "id": "497f2f07-d1e8-475c-a449-d054f0b22ae6",
   "metadata": {},
   "outputs": [
    {
     "name": "stdout",
     "output_type": "stream",
     "text": [
      "help, the value for a is 8 and for b is 1.000000e+01\n"
     ]
    }
   ],
   "source": [
    "a,b=8.3,10\n",
    "print(\"help, the value for a is {0:.0f} and for b is {1:.6e}\".format(a,b))"
   ]
  },
  {
   "cell_type": "code",
   "execution_count": null,
   "id": "2cbe8e1e-56b3-49f0-a21f-e466aadffe59",
   "metadata": {},
   "outputs": [],
   "source": []
  },
  {
   "cell_type": "code",
   "execution_count": null,
   "id": "e7b2396e-01fe-4340-9865-65ebe7fbc989",
   "metadata": {},
   "outputs": [],
   "source": []
  }
 ],
 "metadata": {
  "kernelspec": {
   "display_name": "Python 3 (ipykernel)",
   "language": "python",
   "name": "python3"
  },
  "language_info": {
   "codemirror_mode": {
    "name": "ipython",
    "version": 3
   },
   "file_extension": ".py",
   "mimetype": "text/x-python",
   "name": "python",
   "nbconvert_exporter": "python",
   "pygments_lexer": "ipython3",
   "version": "3.12.4"
  }
 },
 "nbformat": 4,
 "nbformat_minor": 5
}
