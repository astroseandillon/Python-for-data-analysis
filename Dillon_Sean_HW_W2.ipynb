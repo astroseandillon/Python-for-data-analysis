{
 "cells": [
  {
   "cell_type": "markdown",
   "id": "0bf250f5-952c-4921-9fa0-c46f94756ae7",
   "metadata": {},
   "source": [
    "# Homework Week 2"
   ]
  },
  {
   "cell_type": "markdown",
   "id": "f1e56560-1048-40e1-9bc7-deb460a065d1",
   "metadata": {},
   "source": [
    "due September 9th"
   ]
  },
  {
   "cell_type": "markdown",
   "id": "05170853-ba3a-4779-b790-c903c9094a33",
   "metadata": {},
   "source": [
    "### 1. Formatted Printing"
   ]
  },
  {
   "cell_type": "code",
   "execution_count": 8,
   "id": "70cb9a7d-c3cd-4a0f-b9d0-1f5f83b9536f",
   "metadata": {},
   "outputs": [
    {
     "name": "stdout",
     "output_type": "stream",
     "text": [
      "help, the value for a is 8.3 and for b is 10\n"
     ]
    }
   ],
   "source": [
    "a,b=8.3,10\n",
    "print(\"help, the value for a is {} and for b is {}\".format(a,b))"
   ]
  },
  {
   "cell_type": "code",
   "execution_count": 30,
   "id": "497f2f07-d1e8-475c-a449-d054f0b22ae6",
   "metadata": {},
   "outputs": [
    {
     "name": "stdout",
     "output_type": "stream",
     "text": [
      "help, the value for a is 8 and for b is 1.000000e+01\n"
     ]
    }
   ],
   "source": [
    "a,b=8.3,10\n",
    "print(\"help, the value for a is {0:.0f} and for b is {1:.6e}\".format(a,b))"
   ]
  },
  {
   "cell_type": "markdown",
   "id": "2162f90e",
   "metadata": {},
   "source": [
    "### 2. Formatted Printing and Writing"
   ]
  },
  {
   "cell_type": "markdown",
   "id": "602b85ee",
   "metadata": {},
   "source": [
    "Using the Wikipedia page here -- https://en.wikipedia.org/wiki/List_of_nearest_bright_stars -- create a file called nearestAstars.txt and populate it with the following two lines:"
   ]
  },
  {
   "cell_type": "markdown",
   "id": "9dd90913",
   "metadata": {},
   "source": [
    "The nearest A star is Sirius at a distance of 2.638 parsecs\n",
    "the second nearest A stars is Altair at a distance of 5.1227 parsecs\n"
   ]
  },
  {
   "cell_type": "code",
   "execution_count": 7,
   "id": "1daab718",
   "metadata": {},
   "outputs": [
    {
     "ename": "ValueError",
     "evalue": "Some errors were detected !\n    Line #2 (got 4 columns instead of 3)\n    Line #3 (got 1 columns instead of 3)\n    Line #5 (got 1 columns instead of 3)\n    Line #7 (got 4 columns instead of 3)\n    Line #8 (got 1 columns instead of 3)\n    Line #10 (got 1 columns instead of 3)\n    Line #11 (got 8 columns instead of 3)\n    Line #12 (got 8 columns instead of 3)\n    Line #13 (got 8 columns instead of 3)\n    Line #14 (got 8 columns instead of 3)\n    Line #15 (got 8 columns instead of 3)\n    Line #16 (got 8 columns instead of 3)\n    Line #17 (got 8 columns instead of 3)\n    Line #18 (got 8 columns instead of 3)\n    Line #19 (got 8 columns instead of 3)\n    Line #20 (got 8 columns instead of 3)\n    Line #21 (got 8 columns instead of 3)\n    Line #22 (got 8 columns instead of 3)\n    Line #23 (got 8 columns instead of 3)\n    Line #24 (got 8 columns instead of 3)\n    Line #25 (got 8 columns instead of 3)\n    Line #26 (got 8 columns instead of 3)\n    Line #27 (got 8 columns instead of 3)\n    Line #28 (got 8 columns instead of 3)\n    Line #29 (got 8 columns instead of 3)\n    Line #30 (got 8 columns instead of 3)\n    Line #31 (got 8 columns instead of 3)\n    Line #32 (got 8 columns instead of 3)\n    Line #33 (got 8 columns instead of 3)\n    Line #34 (got 8 columns instead of 3)\n    Line #35 (got 8 columns instead of 3)\n    Line #36 (got 8 columns instead of 3)\n    Line #37 (got 8 columns instead of 3)\n    Line #38 (got 8 columns instead of 3)\n    Line #39 (got 8 columns instead of 3)\n    Line #40 (got 8 columns instead of 3)\n    Line #41 (got 8 columns instead of 3)\n    Line #42 (got 8 columns instead of 3)\n    Line #43 (got 8 columns instead of 3)\n    Line #44 (got 8 columns instead of 3)\n    Line #45 (got 8 columns instead of 3)\n    Line #46 (got 8 columns instead of 3)\n    Line #47 (got 8 columns instead of 3)\n    Line #48 (got 8 columns instead of 3)\n    Line #49 (got 8 columns instead of 3)\n    Line #50 (got 8 columns instead of 3)\n    Line #51 (got 8 columns instead of 3)\n    Line #52 (got 8 columns instead of 3)\n    Line #53 (got 8 columns instead of 3)\n    Line #54 (got 8 columns instead of 3)\n    Line #55 (got 8 columns instead of 3)\n    Line #56 (got 8 columns instead of 3)\n    Line #57 (got 8 columns instead of 3)\n    Line #58 (got 8 columns instead of 3)\n    Line #59 (got 8 columns instead of 3)\n    Line #60 (got 8 columns instead of 3)\n    Line #61 (got 8 columns instead of 3)\n    Line #62 (got 8 columns instead of 3)\n    Line #63 (got 8 columns instead of 3)\n    Line #64 (got 8 columns instead of 3)\n    Line #65 (got 8 columns instead of 3)\n    Line #66 (got 8 columns instead of 3)\n    Line #67 (got 8 columns instead of 3)\n    Line #68 (got 8 columns instead of 3)\n    Line #69 (got 8 columns instead of 3)\n    Line #70 (got 8 columns instead of 3)\n    Line #71 (got 8 columns instead of 3)\n    Line #72 (got 8 columns instead of 3)\n    Line #73 (got 8 columns instead of 3)\n    Line #74 (got 8 columns instead of 3)\n    Line #75 (got 8 columns instead of 3)\n    Line #76 (got 8 columns instead of 3)\n    Line #77 (got 8 columns instead of 3)",
     "output_type": "error",
     "traceback": [
      "\u001b[1;31m---------------------------------------------------------------------------\u001b[0m",
      "\u001b[1;31mValueError\u001b[0m                                Traceback (most recent call last)",
      "\u001b[1;32m<ipython-input-7-f9b27fb15cc8>\u001b[0m in \u001b[0;36m<module>\u001b[1;34m\u001b[0m\n\u001b[0;32m      1\u001b[0m \u001b[1;32mimport\u001b[0m \u001b[0mnumpy\u001b[0m \u001b[1;32mas\u001b[0m \u001b[0mnp\u001b[0m\u001b[1;33m\u001b[0m\u001b[1;33m\u001b[0m\u001b[0m\n\u001b[1;32m----> 2\u001b[1;33m \u001b[0mdata\u001b[0m \u001b[1;33m=\u001b[0m \u001b[0mnp\u001b[0m\u001b[1;33m.\u001b[0m\u001b[0mgenfromtxt\u001b[0m\u001b[1;33m(\u001b[0m\u001b[1;34m'List_of_nearest_bright_stars_2.csv'\u001b[0m\u001b[1;33m,\u001b[0m \u001b[0munpack\u001b[0m\u001b[1;33m=\u001b[0m\u001b[1;32mTrue\u001b[0m\u001b[1;33m,\u001b[0m \u001b[0mdtype\u001b[0m\u001b[1;33m=\u001b[0m\u001b[0mstr\u001b[0m\u001b[1;33m,\u001b[0m \u001b[0mdelimiter\u001b[0m\u001b[1;33m=\u001b[0m\u001b[1;34m','\u001b[0m\u001b[1;33m)\u001b[0m\u001b[1;33m\u001b[0m\u001b[1;33m\u001b[0m\u001b[0m\n\u001b[0m\u001b[0;32m      3\u001b[0m \u001b[0mprint\u001b[0m\u001b[1;33m(\u001b[0m\u001b[0mdata\u001b[0m\u001b[1;33m)\u001b[0m\u001b[1;33m\u001b[0m\u001b[1;33m\u001b[0m\u001b[0m\n",
      "\u001b[1;32m~\\anaconda3\\lib\\site-packages\\numpy\\lib\\npyio.py\u001b[0m in \u001b[0;36mgenfromtxt\u001b[1;34m(fname, dtype, comments, delimiter, skip_header, skip_footer, converters, missing_values, filling_values, usecols, names, excludelist, deletechars, replace_space, autostrip, case_sensitive, defaultfmt, unpack, usemask, loose, invalid_raise, max_rows, encoding, like)\u001b[0m\n\u001b[0;32m   2122\u001b[0m             \u001b[1;31m# Raise an exception ?\u001b[0m\u001b[1;33m\u001b[0m\u001b[1;33m\u001b[0m\u001b[1;33m\u001b[0m\u001b[0m\n\u001b[0;32m   2123\u001b[0m             \u001b[1;32mif\u001b[0m \u001b[0minvalid_raise\u001b[0m\u001b[1;33m:\u001b[0m\u001b[1;33m\u001b[0m\u001b[1;33m\u001b[0m\u001b[0m\n\u001b[1;32m-> 2124\u001b[1;33m                 \u001b[1;32mraise\u001b[0m \u001b[0mValueError\u001b[0m\u001b[1;33m(\u001b[0m\u001b[0merrmsg\u001b[0m\u001b[1;33m)\u001b[0m\u001b[1;33m\u001b[0m\u001b[1;33m\u001b[0m\u001b[0m\n\u001b[0m\u001b[0;32m   2125\u001b[0m             \u001b[1;31m# Issue a warning ?\u001b[0m\u001b[1;33m\u001b[0m\u001b[1;33m\u001b[0m\u001b[1;33m\u001b[0m\u001b[0m\n\u001b[0;32m   2126\u001b[0m             \u001b[1;32melse\u001b[0m\u001b[1;33m:\u001b[0m\u001b[1;33m\u001b[0m\u001b[1;33m\u001b[0m\u001b[0m\n",
      "\u001b[1;31mValueError\u001b[0m: Some errors were detected !\n    Line #2 (got 4 columns instead of 3)\n    Line #3 (got 1 columns instead of 3)\n    Line #5 (got 1 columns instead of 3)\n    Line #7 (got 4 columns instead of 3)\n    Line #8 (got 1 columns instead of 3)\n    Line #10 (got 1 columns instead of 3)\n    Line #11 (got 8 columns instead of 3)\n    Line #12 (got 8 columns instead of 3)\n    Line #13 (got 8 columns instead of 3)\n    Line #14 (got 8 columns instead of 3)\n    Line #15 (got 8 columns instead of 3)\n    Line #16 (got 8 columns instead of 3)\n    Line #17 (got 8 columns instead of 3)\n    Line #18 (got 8 columns instead of 3)\n    Line #19 (got 8 columns instead of 3)\n    Line #20 (got 8 columns instead of 3)\n    Line #21 (got 8 columns instead of 3)\n    Line #22 (got 8 columns instead of 3)\n    Line #23 (got 8 columns instead of 3)\n    Line #24 (got 8 columns instead of 3)\n    Line #25 (got 8 columns instead of 3)\n    Line #26 (got 8 columns instead of 3)\n    Line #27 (got 8 columns instead of 3)\n    Line #28 (got 8 columns instead of 3)\n    Line #29 (got 8 columns instead of 3)\n    Line #30 (got 8 columns instead of 3)\n    Line #31 (got 8 columns instead of 3)\n    Line #32 (got 8 columns instead of 3)\n    Line #33 (got 8 columns instead of 3)\n    Line #34 (got 8 columns instead of 3)\n    Line #35 (got 8 columns instead of 3)\n    Line #36 (got 8 columns instead of 3)\n    Line #37 (got 8 columns instead of 3)\n    Line #38 (got 8 columns instead of 3)\n    Line #39 (got 8 columns instead of 3)\n    Line #40 (got 8 columns instead of 3)\n    Line #41 (got 8 columns instead of 3)\n    Line #42 (got 8 columns instead of 3)\n    Line #43 (got 8 columns instead of 3)\n    Line #44 (got 8 columns instead of 3)\n    Line #45 (got 8 columns instead of 3)\n    Line #46 (got 8 columns instead of 3)\n    Line #47 (got 8 columns instead of 3)\n    Line #48 (got 8 columns instead of 3)\n    Line #49 (got 8 columns instead of 3)\n    Line #50 (got 8 columns instead of 3)\n    Line #51 (got 8 columns instead of 3)\n    Line #52 (got 8 columns instead of 3)\n    Line #53 (got 8 columns instead of 3)\n    Line #54 (got 8 columns instead of 3)\n    Line #55 (got 8 columns instead of 3)\n    Line #56 (got 8 columns instead of 3)\n    Line #57 (got 8 columns instead of 3)\n    Line #58 (got 8 columns instead of 3)\n    Line #59 (got 8 columns instead of 3)\n    Line #60 (got 8 columns instead of 3)\n    Line #61 (got 8 columns instead of 3)\n    Line #62 (got 8 columns instead of 3)\n    Line #63 (got 8 columns instead of 3)\n    Line #64 (got 8 columns instead of 3)\n    Line #65 (got 8 columns instead of 3)\n    Line #66 (got 8 columns instead of 3)\n    Line #67 (got 8 columns instead of 3)\n    Line #68 (got 8 columns instead of 3)\n    Line #69 (got 8 columns instead of 3)\n    Line #70 (got 8 columns instead of 3)\n    Line #71 (got 8 columns instead of 3)\n    Line #72 (got 8 columns instead of 3)\n    Line #73 (got 8 columns instead of 3)\n    Line #74 (got 8 columns instead of 3)\n    Line #75 (got 8 columns instead of 3)\n    Line #76 (got 8 columns instead of 3)\n    Line #77 (got 8 columns instead of 3)"
     ]
    }
   ],
   "source": [
    "import numpy as np\n",
    "data = np.genfromtxt('List_of_nearest_bright_stars_2.csv', unpack=True, dtype=str, delimiter=',')\n",
    "print(data)"
   ]
  },
  {
   "cell_type": "code",
   "execution_count": 16,
   "id": "4ed1322e",
   "metadata": {},
   "outputs": [
    {
     "ename": "TypeError",
     "evalue": "'unpack' is an invalid keyword argument for open()",
     "output_type": "error",
     "traceback": [
      "\u001b[1;31m---------------------------------------------------------------------------\u001b[0m",
      "\u001b[1;31mTypeError\u001b[0m                                 Traceback (most recent call last)",
      "\u001b[1;32m<ipython-input-16-0e519c6d0984>\u001b[0m in \u001b[0;36m<module>\u001b[1;34m\u001b[0m\n\u001b[1;32m----> 1\u001b[1;33m \u001b[0mcsv\u001b[0m\u001b[1;33m=\u001b[0m\u001b[0mopen\u001b[0m\u001b[1;33m(\u001b[0m\u001b[1;34m'List_of_nearest_bright_stars_2.csv'\u001b[0m\u001b[1;33m,\u001b[0m \u001b[1;34m'r'\u001b[0m\u001b[1;33m,\u001b[0m \u001b[0mnewline\u001b[0m\u001b[1;33m=\u001b[0m\u001b[1;34m''\u001b[0m\u001b[1;33m,\u001b[0m \u001b[0munpack\u001b[0m\u001b[1;33m=\u001b[0m\u001b[1;32mTrue\u001b[0m\u001b[1;33m)\u001b[0m\u001b[1;33m\u001b[0m\u001b[1;33m\u001b[0m\u001b[0m\n\u001b[0m\u001b[0;32m      2\u001b[0m \u001b[0mprint\u001b[0m\u001b[1;33m(\u001b[0m\u001b[1;34m'hello world'\u001b[0m\u001b[1;33m)\u001b[0m\u001b[1;33m\u001b[0m\u001b[1;33m\u001b[0m\u001b[0m\n",
      "\u001b[1;31mTypeError\u001b[0m: 'unpack' is an invalid keyword argument for open()"
     ]
    }
   ],
   "source": [
    "csv=open('List_of_nearest_bright_stars_2.csv', 'r', newline='', unpack=True)\n",
    "print('hello world')"
   ]
  },
  {
   "cell_type": "code",
   "execution_count": 15,
   "id": "5a31793f",
   "metadata": {},
   "outputs": [
    {
     "data": {
      "text/plain": [
       "<_io.TextIOWrapper name='List_of_nearest_bright_stars_2.csv' mode='r' encoding='cp1252'>"
      ]
     },
     "execution_count": 15,
     "metadata": {},
     "output_type": "execute_result"
    }
   ],
   "source": [
    "csv"
   ]
  },
  {
   "cell_type": "code",
   "execution_count": null,
   "id": "4ef6e7df",
   "metadata": {},
   "outputs": [],
   "source": []
  }
 ],
 "metadata": {
  "kernelspec": {
   "display_name": "Python 3 (ipykernel)",
   "language": "python",
   "name": "python3"
  },
  "language_info": {
   "codemirror_mode": {
    "name": "ipython",
    "version": 3
   },
   "file_extension": ".py",
   "mimetype": "text/x-python",
   "name": "python",
   "nbconvert_exporter": "python",
   "pygments_lexer": "ipython3",
   "version": "3.12.4"
  }
 },
 "nbformat": 4,
 "nbformat_minor": 5
}
