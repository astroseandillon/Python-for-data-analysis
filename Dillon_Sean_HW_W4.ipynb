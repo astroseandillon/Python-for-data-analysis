{
 "cells": [
  {
   "cell_type": "markdown",
   "id": "be7baf1c-9fa2-48c3-b8e7-67cf70e0dbd4",
   "metadata": {},
   "source": [
    "# Homework Week 4 \n",
    "#### due September 18"
   ]
  },
  {
   "cell_type": "markdown",
   "id": "b70513d1-58b5-42b4-994a-6c25ba9f189c",
   "metadata": {},
   "source": [
    "### 1. Sequence Function (in-class)"
   ]
  },
  {
   "cell_type": "code",
   "execution_count": 12,
   "id": "a263032c-b79d-4bd3-908d-34733bb6aa0b",
   "metadata": {},
   "outputs": [
    {
     "name": "stdout",
     "output_type": "stream",
     "text": [
      "Best line of the episode Eegah in season 5 was Watch out for Snakes\n",
      "Best line of the episode Deathstalker in season 7 was He's Batman\n",
      "Best line of the episode Space Mutiny in season 8 was Big McLarge Huge\n"
     ]
    }
   ],
   "source": [
    "episode = ['Eegah', 'Deathstalker', 'Space Mutiny']\n",
    "line = ['Watch out for Snakes', \"He's Batman\", \"Big McLarge Huge\"]\n",
    "season = [5,7,8]\n",
    "biglist = list(zip(episode, line, season))\n",
    "for i in range(len(biglist)):\n",
    "    print(\"Best line of the episode {} in season {} was {}\".format(biglist[i][0], biglist[i][2], biglist[i][1]))"
   ]
  },
  {
   "cell_type": "markdown",
   "id": "2ea14d35-9296-4551-b9f1-3b82e6467b49",
   "metadata": {},
   "source": [
    "### 2. Sequence Function\n",
    "\n",
    "Consider the example shown in the data struct part 3 notes of the list comprehension for four stars wth different names HIP 99770, AF Lep, HR 8799, Vega.. It used zip to advance each element of starname, spectype, starmag, and dstar\n",
    "\n",
    "Now, add the use of enumerate to write a for-loop printing out the number of the star in the list and an indexed version ofabsmag at each interation and then print the full array of absmag outside of the for-loop. "
   ]
  },
  {
   "cell_type": "code",
   "execution_count": 6,
   "id": "8d687e88-2e7a-4a7d-b5a7-61baaf9cd454",
   "metadata": {},
   "outputs": [
    {
     "name": "stdout",
     "output_type": "stream",
     "text": [
      "The absolute magnitude of star number 1 with name HIP 99770 with spectral type A5V is 1.850\n",
      "The absolute magnitude of star number 2 with name AF Lep with spectral type F8V is 4.159\n",
      "The absolute magnitude of star number 3 with name HR 8799 with spectral type F0V is 2.923\n",
      "The absolute magnitude of star number 4 with name Vega with spectral type A0V is 0.568\n",
      "[1.84989488 4.15932603 2.92251889 0.56754637]\n"
     ]
    }
   ],
   "source": [
    "import numpy as np\n",
    "starname=['HIP 99770','AF Lep','HR 8799','Vega']\n",
    "spectype=['A5V','F8V','F0V','A0V']\n",
    "starmag=np.array([4.9,6.3,5.9,0.0])\n",
    "dstar=np.array([40.74,26.8, 39.4, 7.7])\n",
    "\n",
    "\n",
    "ab = []\n",
    "for h,(i,j,k,l) in enumerate(zip(starname,spectype,starmag,dstar)):\n",
    "    absmag=k-5*np.log10(l/10.)\n",
    "    print('The absolute magnitude of star number {0} with name {1:s} with spectral type {2} is {3:.3f}'.format(h+1,i,j,absmag))\n",
    "    ab.append(absmag)\n",
    "\n",
    "print(np.array(ab))"
   ]
  },
  {
   "cell_type": "markdown",
   "id": "5f5e2bdc-4e63-40d2-bf35-9955ff764ad0",
   "metadata": {},
   "source": [
    "### 3. List Comprehensions\n",
    "\n",
    "Write a list comprehension returning a variable vals2 which equals [6,9] (i.e. vals[1] and vals[3] each times 3) using the value of 1/x versus 1/x$^{2}$ for each element x of vals as the conditional."
   ]
  },
  {
   "cell_type": "code",
   "execution_count": 1,
   "id": "5cedc1be-b734-4809-867b-5a1d101005aa",
   "metadata": {},
   "outputs": [
    {
     "name": "stdout",
     "output_type": "stream",
     "text": [
      "[6, 9]\n"
     ]
    }
   ],
   "source": [
    "vals = [.1,2,.4,3]\n",
    "vals2 = [v*3 for v in vals if v**(-1) > v**(-2)]\n",
    "print(vals2)\n"
   ]
  },
  {
   "cell_type": "markdown",
   "id": "471331b2-4e9a-4035-af9e-ff0cf3259715",
   "metadata": {},
   "source": [
    "### 4. Numpy Array Creation"
   ]
  },
  {
   "cell_type": "code",
   "execution_count": 6,
   "id": "4294d3af-372e-4b21-aa30-fc809cef0610",
   "metadata": {},
   "outputs": [
    {
     "name": "stdout",
     "output_type": "stream",
     "text": [
      "[[0.53599956 0.19672642 0.65466546 0.14118316]\n",
      " [0.04147821 0.88612304 0.41347895 0.34254211]\n",
      " [0.51900458 0.97562745 0.30693178 0.30181008]]\n",
      "[[0.53599956 0.19672642 0.65466546 0.14118316]\n",
      " [0.04147821 0.88612304 0.41347895 0.34254211]\n",
      " [0.51900458 0.97562745 0.30693178 0.30181008]]\n",
      "[[1.         0.19672642 0.65466546 0.14118316]\n",
      " [1.         0.88612304 0.41347895 0.34254211]\n",
      " [1.         0.97562745 0.30693178 0.30181008]]\n"
     ]
    }
   ],
   "source": [
    "import numpy as np\n",
    "multi_array = np.random.random((3,4))\n",
    "print(multi_array)\n",
    "multi_array2 = np.copy(multi_array)\n",
    "print(multi_array2)\n",
    "multi_array2[:,0] = np.ones((1,3))\n",
    "print(multi_array2)"
   ]
  },
  {
   "cell_type": "markdown",
   "id": "3e041480-49e3-4696-9359-e34542d9c4ba",
   "metadata": {},
   "source": [
    "### 5. Numpy Slicing with Boolean Indexing"
   ]
  },
  {
   "cell_type": "code",
   "execution_count": 7,
   "id": "5044282c-9066-4574-8216-afcceb893c78",
   "metadata": {},
   "outputs": [],
   "source": [
    "import numpy as np\n",
    "arr = np.loadtxt('spectrum_oct17_adi.dat')\n",
    "arr[:,2] = np.where(arr[:,3]>5, arr[:,2], -9)\n",
    "np.savetxt('new_spectrum.txt', arr)"
   ]
  },
  {
   "cell_type": "markdown",
   "id": "ca80dd1f-a385-468d-92c0-d208c49b3022",
   "metadata": {},
   "source": [
    "### 6. Array Reshaping (in class)"
   ]
  },
  {
   "cell_type": "markdown",
   "id": "9b0981c1-df0c-4094-b198-28a4c0962b87",
   "metadata": {},
   "source": []
  },
  {
   "cell_type": "markdown",
   "id": "ebdbee39-76df-4dab-bc53-84f337b95744",
   "metadata": {},
   "source": [
    "### 7. Missing Data"
   ]
  },
  {
   "cell_type": "code",
   "execution_count": 2,
   "id": "3742c04b-05f2-4625-a693-f3263c99c682",
   "metadata": {},
   "outputs": [],
   "source": [
    "import numpy as np\n"
   ]
  },
  {
   "cell_type": "code",
   "execution_count": null,
   "id": "7157eace-ddbc-4a36-aceb-04c34c2190f9",
   "metadata": {},
   "outputs": [],
   "source": []
  }
 ],
 "metadata": {
  "kernelspec": {
   "display_name": "Python 3 (ipykernel)",
   "language": "python",
   "name": "python3"
  },
  "language_info": {
   "codemirror_mode": {
    "name": "ipython",
    "version": 3
   },
   "file_extension": ".py",
   "mimetype": "text/x-python",
   "name": "python",
   "nbconvert_exporter": "python",
   "pygments_lexer": "ipython3",
   "version": "3.12.4"
  }
 },
 "nbformat": 4,
 "nbformat_minor": 5
}
