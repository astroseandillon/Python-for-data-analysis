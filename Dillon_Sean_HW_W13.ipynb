{
 "cells": [
  {
   "cell_type": "markdown",
   "id": "a409db11-a0ee-4ab4-9164-062c996d9faa",
   "metadata": {},
   "source": [
    "# _Python for Scientific Data Analysis_\n",
    "\n",
    "## Homework - Week 13 (due December 2)\n",
    "\n"
   ]
  },
  {
   "cell_type": "markdown",
   "id": "21eebf61-cf68-4ecc-beea-0fe080f763d5",
   "metadata": {},
   "source": [
    "### 1. Project Update \n",
    "\n",
    "* Please give me a **short** update on the progress of your class project.  In particular, I would like to see ...\n",
    "\n",
    "- A description of the current status of your project\n",
    "- Items where you are getting stuck (if any)/questions you may have\n",
    "- Any plots or graphics you have produced beyond those from last week's homework.\n"
   ]
  },
  {
   "cell_type": "code",
   "execution_count": null,
   "id": "6e625cf4-df55-48a8-ac50-a181cc60baad",
   "metadata": {},
   "outputs": [],
   "source": []
  },
  {
   "cell_type": "markdown",
   "id": "2248036c-78b8-4311-94aa-66b7fc92730e",
   "metadata": {},
   "source": [
    "### 2. Reading in Fits Files\n",
    "\n",
    "* read in 'keckimage.fits' in /code/sect1/files/\n",
    "* save the image array as a variable, save the header as a variable\n",
    "* from the header, return the keyword values for the altitude and azimuth of the telescope during this exposure\n",
    "* use i) a NumPy function call to return a value for the dimensions of the image and ii) an astropy function call to return a value for the dimensions of the image\n",
    "\n"
   ]
  },
  {
   "cell_type": "code",
   "execution_count": 25,
   "id": "14e95dfd-568e-4bb7-bda3-787e56983495",
   "metadata": {},
   "outputs": [
    {
     "name": "stdout",
     "output_type": "stream",
     "text": [
      "Filename: keckimage.fits\n",
      "No.    Name      Ver    Type      Cards   Dimensions   Format\n",
      "  0  PRIMARY       1 PrimaryHDU     268   (512, 512)   float32   \n",
      "None\n",
      "(512, 512)\n",
      "\n",
      "The azimuth is 3.43391\n",
      "The altitude is 65.39478\n"
     ]
    }
   ],
   "source": [
    "from astropy.io import fits\n",
    "\n",
    "keck = fits.open('keckimage.fits')\n",
    "print(keck.info())\n",
    "\n",
    "im_arr = keck[0].data\n",
    "print(im_arr.shape)\n",
    "\n",
    "head = keck[0].header\n",
    "\n",
    "# print(repr(head))\n",
    "print('')\n",
    "print('The azimuth is {}'.format(head['AZIMUTH']))\n",
    "print('The altitude is {}'.format(head['ALTITUDE']))"
   ]
  },
  {
   "cell_type": "markdown",
   "id": "b983f03b-d03c-4160-a511-7f1fd522cabe",
   "metadata": {
    "jp-MarkdownHeadingCollapsed": true
   },
   "source": [
    "### 3. Reading in Fits Files\n",
    "\n",
    "* read in the data cube `adi_oct172021.fits' in /code/sect1/files/\n",
    "* return the keyword value for aperture radius in the third slice (here the first slice is indexed as 0)\n",
    "* compute the pixel value of the cube at for the 10th slice (indexed from 0) at x=82, y=79.  \n",
    "* What are the flux density units of the cube?\n",
    "\n"
   ]
  },
  {
   "cell_type": "code",
   "execution_count": null,
   "id": "b57fdf37-d048-49fd-8706-d591359c3c27",
   "metadata": {},
   "outputs": [],
   "source": []
  },
  {
   "cell_type": "markdown",
   "id": "0fd76df7-4056-4c51-9456-c6c4ec22986e",
   "metadata": {},
   "source": [
    "### 4. Writing Fits Files\n",
    "* take the median of 'adi_oct172021.fits' across all wavelengths\n",
    "* save as a new fits file called 'median_adi_oct172021.fits' with the previous fits header information retained.\n",
    "\n"
   ]
  },
  {
   "cell_type": "code",
   "execution_count": null,
   "id": "92338e19-66cb-49cf-8113-be70a048cf57",
   "metadata": {},
   "outputs": [],
   "source": []
  },
  {
   "cell_type": "markdown",
   "id": "e406dc6a-b2d8-46b0-a7ff-6bbd07ef39c3",
   "metadata": {},
   "source": [
    "### 5. (grad students only) Animations\n",
    "\n",
    "Start with the animation ex1_6.gif and ex1_6.mp4 described in the lecture note section on animations. \n",
    "\n",
    " Edit the source code to create a gif or a mpeg movie that prints a) a label at the top-left saying ``Exoplanet HIP 99770 b`` on the top line and ``SCExAO/CHARIS`` on teh second line and a counter at the bottom-left reading ``Wavelength Slice [Number]`` where the number increments by 1 with each slice.  See the attached file ``problem3.mp4`` for an example.\n",
    " \n",
    " Hints:\n",
    " \n",
    " * with each frame in the animation the original source code in my notes appends ``im`` which is an ``axes.imshow`` call (i.e. appends an image frame).   To get markups added, you also need to append them with each loop.\n",
    " \n",
    " * think carefully about _where_ you add the wavelength labeling in your source code.\n"
   ]
  },
  {
   "cell_type": "code",
   "execution_count": null,
   "id": "9362c8b7-a38e-4cdd-bc88-0e779397e458",
   "metadata": {},
   "outputs": [],
   "source": []
  },
  {
   "cell_type": "markdown",
   "id": "dfd61a83-8c0b-4657-a8a6-26a77d5ea478",
   "metadata": {},
   "source": [
    "### 6. AstroPy Tables\n",
    "\n",
    "* read in the file ``leggett.txt`` (data for brown dwafs from my colleague at the Gemini Observatory, Sandy Leggett).\n",
    "\n",
    "* what is the format type for this table? (basic, latex, mrt, csv, or ipac)\n",
    "\n",
    "* one of the columns is the **negative** of the distance modulus ``M-m``: ``-5*log10(distance/10)``, where distance is in parsecs.  The others are self-explanatory\n",
    "\n",
    "Create a new table in the LaTeX format called ``newleggett.tex`` with the columns 'Name', 'Distance', 'H mag', and 'abs Hmag'.   Here 'distance', should be the distance in parsecs (you can figure out out from the distance modulus) and 'abs Hmag' is the absolute H band magnitude (i.e. absolute magnitude = apparent magnitude - distance modulus).\n",
    "\n",
    "* read your newly-created table back in to confirm that you have formatted the table properly.  If you do this in Jupyter Notebooks, the new table should be displayed as follows:\n",
    "\n"
   ]
  },
  {
   "cell_type": "code",
   "execution_count": null,
   "id": "e9f3a50f-96fd-4778-a302-355baf3e626f",
   "metadata": {},
   "outputs": [],
   "source": []
  },
  {
   "cell_type": "markdown",
   "id": "4a952f52-0e7f-4030-8bca-915c583cddd4",
   "metadata": {},
   "source": [
    "### 7. Units\n",
    "\n",
    "* take the result from ``newleggett.tex``.  Read in this file using ``ascii.read``, extract the column for Distance in units of parsecs.\n",
    "* use ``units`` to give explicit units of parsecs to these distances.  \n",
    "* using ``units``, convert these distances to light-years (abbreviated ``lyr``).\n",
    "* Do a simple histogram plot following the format of our galaxy velocity dispersion example:\n"
   ]
  },
  {
   "cell_type": "code",
   "execution_count": null,
   "id": "b6945dbf-3d39-491c-a6d2-9699b18cb0a6",
   "metadata": {},
   "outputs": [],
   "source": []
  }
 ],
 "metadata": {
  "kernelspec": {
   "display_name": "Python 3 (ipykernel)",
   "language": "python",
   "name": "python3"
  },
  "language_info": {
   "codemirror_mode": {
    "name": "ipython",
    "version": 3
   },
   "file_extension": ".py",
   "mimetype": "text/x-python",
   "name": "python",
   "nbconvert_exporter": "python",
   "pygments_lexer": "ipython3",
   "version": "3.12.4"
  }
 },
 "nbformat": 4,
 "nbformat_minor": 5
}
