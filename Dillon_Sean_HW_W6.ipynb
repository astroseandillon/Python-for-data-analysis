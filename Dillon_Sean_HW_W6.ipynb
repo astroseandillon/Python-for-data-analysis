{
 "cells": [
  {
   "cell_type": "markdown",
   "id": "a248b04c-6a47-48f3-9691-800840b115a2",
   "metadata": {},
   "source": [
    "## Homework - Week 6 (Due Oct 11)\n",
    "### 1. Eigendecomposition (in class)\n",
    "\n",
    "- construct a 3x3 matrix with elements\n",
    "\n",
    " ```\n",
    "       [40, 42.5, 45, 47.5, 50, 52.5, 55, 57.5, 60 ]\n",
    " ```\n",
    " \n",
    " using the ``np.linspace`` and ``reshape`` functions.\n",
    " \n",
    " - perform eigendecomposition on this matrix.\n",
    "\n",
    "  - what is the rank of the original matrix?   Why is the answer not 3?\n"
   ]
  },
  {
   "cell_type": "code",
   "execution_count": null,
   "id": "05e16891-1ab7-4455-b132-90299489254f",
   "metadata": {},
   "outputs": [],
   "source": []
  }
 ],
 "metadata": {
  "kernelspec": {
   "display_name": "Python 3 (ipykernel)",
   "language": "python",
   "name": "python3"
  },
  "language_info": {
   "codemirror_mode": {
    "name": "ipython",
    "version": 3
   },
   "file_extension": ".py",
   "mimetype": "text/x-python",
   "name": "python",
   "nbconvert_exporter": "python",
   "pygments_lexer": "ipython3",
   "version": "3.12.4"
  }
 },
 "nbformat": 4,
 "nbformat_minor": 5
}
