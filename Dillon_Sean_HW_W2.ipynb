{
 "cells": [
  {
   "cell_type": "markdown",
   "id": "0bf250f5-952c-4921-9fa0-c46f94756ae7",
   "metadata": {},
   "source": [
    "# Homework Week 2"
   ]
  },
  {
   "cell_type": "markdown",
   "id": "f1e56560-1048-40e1-9bc7-deb460a065d1",
   "metadata": {},
   "source": [
    "due September 9th"
   ]
  },
  {
   "cell_type": "markdown",
   "id": "05170853-ba3a-4779-b790-c903c9094a33",
   "metadata": {},
   "source": [
    "### 1. Formatted Printing"
   ]
  },
  {
   "cell_type": "code",
   "execution_count": 8,
   "id": "70cb9a7d-c3cd-4a0f-b9d0-1f5f83b9536f",
   "metadata": {},
   "outputs": [
    {
     "name": "stdout",
     "output_type": "stream",
     "text": [
      "help, the value for a is 8.3 and for b is 10\n"
     ]
    }
   ],
   "source": [
    "a,b=8.3,10\n",
    "print(\"help, the value for a is {} and for b is {}\".format(a,b))"
   ]
  },
  {
   "cell_type": "code",
   "execution_count": 30,
   "id": "497f2f07-d1e8-475c-a449-d054f0b22ae6",
   "metadata": {},
   "outputs": [
    {
     "name": "stdout",
     "output_type": "stream",
     "text": [
      "help, the value for a is 8 and for b is 1.000000e+01\n"
     ]
    }
   ],
   "source": [
    "a,b=8.3,10\n",
    "print(\"help, the value for a is {0:.0f} and for b is {1:.6e}\".format(a,b))"
   ]
  },
  {
   "cell_type": "markdown",
   "id": "2162f90e",
   "metadata": {},
   "source": [
    "### 2. Formatted Printing and Writing"
   ]
  },
  {
   "cell_type": "markdown",
   "id": "602b85ee",
   "metadata": {},
   "source": [
    "Using the Wikipedia page here -- https://en.wikipedia.org/wiki/List_of_nearest_bright_stars -- create a file called nearestAstars.txt and populate it with the following two lines:"
   ]
  },
  {
   "cell_type": "markdown",
   "id": "9dd90913",
   "metadata": {},
   "source": [
    "The nearest A star is Sirius at a distance of 2.638 parsecs\n",
    "the second nearest A stars is Altair at a distance of 5.1227 parsecs\n"
   ]
  },
  {
   "cell_type": "code",
   "execution_count": 1,
   "id": "2a27b5a3-8de3-42b7-a4bb-276d9e38f4c1",
   "metadata": {},
   "outputs": [],
   "source": [
    "def ly_to_psc(dis_ly):\n",
    "    psc = dis_ly / 3.26\n",
    "    return psc\n",
    "\n",
    "a_star0_name = 'Sirius'\n",
    "a_star0_dist = 8.60 #lightyears\n",
    "\n",
    "a_star1_name = 'Altair'\n",
    "a_star1_dist = 16.7\n",
    "\n",
    "f = open('nearestAstars.txt', 'w')\n",
    "f.write('The nearest A star is {0} at a distance of {1:.3f} parsecs '.format(a_star0_name, ly_to_psc(a_star0_dist)))\n",
    "f.write('the second nearest A star is {0} at a distance of {1:.4f} parsecs'.format(a_star1_name, ly_to_psc(a_star1_dist)))\n",
    "f.close()"
   ]
  },
  {
   "cell_type": "markdown",
   "id": "9741f282-5022-4c64-bd78-4965665513c1",
   "metadata": {},
   "source": [
    "### 6. Dictionaries\n",
    "\n",
    "Use three defined dictionaries with the following entries -- 1. city + country abbreviation, 2. country abbreviation + skyscraper, 3. skyscraper + height.\n",
    "\n",
    "Assume the following building heights (i.e. this will be dictionary number 3): Petronas Towers - 1483 ft WTC - 1776 ft Eiffel Tower - 1083 ft\n",
    "\n",
    "Write a for-loop that prints out the country, abbreviation, city, building, and height converted to au (assume 1 foot = 2.0375e-12 au):"
   ]
  },
  {
   "cell_type": "code",
   "execution_count": 5,
   "id": "eeedfd07-2060-4a8d-bd05-a7a834d69e9f",
   "metadata": {},
   "outputs": [
    {
     "name": "stdout",
     "output_type": "stream",
     "text": [
      "The tallest building in the city of Paris, FR is the Eiffel Tower with a height of 2.207e-09 au\n",
      "The tallest building in the city of New York, USA is the WTC with a height of 3.619e-09 au\n",
      "The tallest building in the city of Kuala Lumpur, MY is the Petronas Towers with a height of 3.022e-09 au\n"
     ]
    }
   ],
   "source": [
    "cities = {\"Paris\": \"FR\", \n",
    "          \"New York\": \"USA\",\n",
    "          \"Kuala Lumpur\": \"MY\"}\n",
    "towers = {\"FR\": \"Eiffel Tower\",\n",
    "          \"USA\": \"WTC\",\n",
    "          \"MY\": \"Petronas Towers\"}\n",
    "height = {\"Eiffel Tower\": 1083,\n",
    "          \"WTC\": 1776,\n",
    "          \"Petronas Towers\": 1483}\n",
    "\n",
    "def ht_au(ft):\n",
    "    return ft*2.0375e-12\n",
    "\n",
    "\n",
    "\n",
    "for c in cities:\n",
    "    print(\"The tallest building in the city of {}, {} is the {} with a height of {:.3e} au\".format(\n",
    "        c, cities[c], towers[cities[c]], ht_au(height[towers[cities[c]]])))\n",
    "                                                                                               \n",
    "\n",
    "\n",
    "\n"
   ]
  },
  {
   "cell_type": "markdown",
   "id": "f32a5081-6183-40bb-ad00-1f4a7be35b5b",
   "metadata": {},
   "source": [
    "### 7. Lists, Arrays, Loops, and Type Conversions\n",
    "\n",
    "Start with a list 4 elements long, including a mix of floating point numbers and integers: π , e, 3.1 and 5.\n",
    "\n",
    "Remove 3.1 using the remove function and array indexing.\n",
    "\n",
    "Append Euler's gamma constant to the list\n",
    "\n",
    "Write a line of code that prints out a, repeated 3 times\n",
    "\n",
    "Write a line of code that prints out each element of a multiplied by 3\n",
    "\n",
    "Write a for-loop that prints out each element of a multiplied by 3"
   ]
  },
  {
   "cell_type": "code",
   "execution_count": 9,
   "id": "2986db08-a2db-4503-9b78-1df8cf19a8a2",
   "metadata": {},
   "outputs": [
    {
     "name": "stdout",
     "output_type": "stream",
     "text": [
      "3.141592653589793\n",
      "2.718281828459045\n",
      "5\n",
      "0.5772156649015329\n"
     ]
    }
   ],
   "source": [
    "import numpy as np\n",
    "\n",
    "\n",
    "coollist = [np.pi, np.e, 3.1, 5]\n",
    "\n",
    "coollist.remove(3.1)\n",
    "\n",
    "coollist.append(np.euler_gamma)\n",
    "\n",
    "\n",
    "\n",
    "for i in range(len(coollist)):\n",
    "    print(coollist[i])\n",
    "\n",
    "\n",
    "\n",
    "\n",
    "\n",
    "\n",
    "\n",
    "\n",
    "\n"
   ]
  },
  {
   "cell_type": "code",
   "execution_count": null,
   "id": "82767041-b6a8-422d-945f-2ec59882f28d",
   "metadata": {},
   "outputs": [],
   "source": []
  }
 ],
 "metadata": {
  "kernelspec": {
   "display_name": "Python 3 (ipykernel)",
   "language": "python",
   "name": "python3"
  },
  "language_info": {
   "codemirror_mode": {
    "name": "ipython",
    "version": 3
   },
   "file_extension": ".py",
   "mimetype": "text/x-python",
   "name": "python",
   "nbconvert_exporter": "python",
   "pygments_lexer": "ipython3",
   "version": "3.12.4"
  }
 },
 "nbformat": 4,
 "nbformat_minor": 5
}
