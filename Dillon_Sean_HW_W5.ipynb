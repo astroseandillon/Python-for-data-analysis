{
 "cells": [
  {
   "cell_type": "markdown",
   "id": "eb513d93-6c4b-42ab-a7b5-4bd70663ac89",
   "metadata": {},
   "source": [
    "# Homework Week 5\n",
    "\n",
    "\n",
    "##### Due September 25th"
   ]
  },
  {
   "cell_type": "markdown",
   "id": "67f8c704-653d-4b1f-945a-2bf0466bce12",
   "metadata": {},
   "source": [
    "### 1. Broadcasting"
   ]
  },
  {
   "cell_type": "code",
   "execution_count": 20,
   "id": "1341e5ff-5ae6-4a31-ad25-550bf803621d",
   "metadata": {},
   "outputs": [],
   "source": [
    "import numpy as np\n",
    "\n",
    "arr1=np.array([[1,2,3],[4,5,6],[7,8,9]])\n",
    "arr2=np.array([79,89,99])\n"
   ]
  },
  {
   "cell_type": "markdown",
   "id": "888b5d56-2e76-420e-a3e4-61006a76c726",
   "metadata": {},
   "source": [
    "#### a. Replace each column of arr1 by arr2"
   ]
  },
  {
   "cell_type": "code",
   "execution_count": 9,
   "id": "e7bb6fe4-501f-4668-b088-34f8466f957f",
   "metadata": {},
   "outputs": [
    {
     "name": "stdout",
     "output_type": "stream",
     "text": [
      "[[79 79 79]\n",
      " [89 89 89]\n",
      " [99 99 99]]\n"
     ]
    }
   ],
   "source": [
    "arr1[:] = arr2[:,np.newaxis]\n",
    "print(arr1)"
   ]
  },
  {
   "cell_type": "markdown",
   "id": "da12d879-274f-4c70-b85a-eb546a2e6f74",
   "metadata": {},
   "source": [
    "#### b. Replace each row of arr1 by arr2"
   ]
  },
  {
   "cell_type": "code",
   "execution_count": 13,
   "id": "f968f512-7925-40db-88a7-cfd6264dda3c",
   "metadata": {},
   "outputs": [
    {
     "name": "stdout",
     "output_type": "stream",
     "text": [
      "[[79 89 99]\n",
      " [79 89 99]\n",
      " [79 89 99]]\n"
     ]
    }
   ],
   "source": [
    "arr1[:] = arr2[np.newaxis,:]\n",
    "print(arr1)"
   ]
  },
  {
   "cell_type": "markdown",
   "id": "3c4c1444-119d-4774-8281-1fbbafc63a45",
   "metadata": {},
   "source": [
    "#### c. Replaces only the 2nd and 3rd column of arr by arr2"
   ]
  },
  {
   "cell_type": "code",
   "execution_count": 22,
   "id": "3a558520-1854-423a-900d-277e56c4dce7",
   "metadata": {},
   "outputs": [
    {
     "name": "stdout",
     "output_type": "stream",
     "text": [
      "[[ 1 79 79]\n",
      " [ 4 89 89]\n",
      " [ 7 99 99]]\n"
     ]
    }
   ],
   "source": [
    "arr1[:,1:] = arr2[:,np.newaxis]\n",
    "print(arr1)"
   ]
  },
  {
   "cell_type": "code",
   "execution_count": null,
   "id": "41b3b5e8-07c9-4b03-838e-126c69b24eb4",
   "metadata": {},
   "outputs": [],
   "source": []
  }
 ],
 "metadata": {
  "kernelspec": {
   "display_name": "Python 3 (ipykernel)",
   "language": "python",
   "name": "python3"
  },
  "language_info": {
   "codemirror_mode": {
    "name": "ipython",
    "version": 3
   },
   "file_extension": ".py",
   "mimetype": "text/x-python",
   "name": "python",
   "nbconvert_exporter": "python",
   "pygments_lexer": "ipython3",
   "version": "3.12.4"
  }
 },
 "nbformat": 4,
 "nbformat_minor": 5
}
