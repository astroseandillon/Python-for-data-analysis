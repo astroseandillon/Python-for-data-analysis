{
 "cells": [
  {
   "cell_type": "markdown",
   "id": "a248b04c-6a47-48f3-9691-800840b115a2",
   "metadata": {},
   "source": [
    "## Homework - Week 6 (Due Oct 11)\n",
    "### 1. Eigendecomposition (in class)\n",
    "\n",
    "- construct a 3x3 matrix with elements\n",
    "\n",
    " ```\n",
    "       [40, 42.5, 45, 47.5, 50, 52.5, 55, 57.5, 60 ]\n",
    " ```\n",
    " \n",
    " using the ``np.linspace`` and ``reshape`` functions.\n",
    " \n",
    " - perform eigendecomposition on this matrix.\n",
    "\n",
    "  - what is the rank of the original matrix?   Why is the answer not 3?\n"
   ]
  },
  {
   "cell_type": "code",
   "execution_count": 2,
   "id": "4156af64-e0b1-4382-8c49-4df89ee2f3d2",
   "metadata": {},
   "outputs": [],
   "source": [
    "import numpy as np\n",
    "\n",
    "aaa = np.linspace(40,60,9).reshape((3,3))\n",
    "evals, evecs = np.linalg.eig(aaa)\n",
    "rank = np.linalg.matrix_rank(aaa)\n",
    "\n",
    "# the matrix has a rank of 2 because one of its eigenvalues is 0"
   ]
  },
  {
   "cell_type": "markdown",
   "id": "c38f2665-21e3-4d69-bbdc-3d755a92ef26",
   "metadata": {},
   "source": [
    "### 2. Eigendecomposition \n",
    "\n",
    "- construct a 3x3 matrix with elements \n",
    "\n",
    "```\n",
    "[16, 18.0625, 20.25,22.5625, 25, 27.5625, 30.25, 33.0625, 36]\n",
    "\n",
    "```\n",
    "\n",
    "using the ``np.linspace`` and ``reshape`` functions (hint: 4$^{2}$=16, 5$^{2}$=25, and 6$^{2}$=36).\n",
    "\n",
    " - confirm the formulas  $\\textbf{A}$ = $\\textbf{V}\\Lambda\\textbf{V}^{-1}$ and $\\Lambda$= $\\textbf{V}^{-1}\\textbf{A}\\textbf{V}$ using this matrix as $\\textbf{A}$.\n",
    "\n"
   ]
  },
  {
   "cell_type": "code",
   "execution_count": 2,
   "id": "9de2cc21-c2e1-472d-8006-796a61f9c2eb",
   "metadata": {},
   "outputs": [
    {
     "data": {
      "text/plain": [
       "array([[16.    , 18.0625, 20.25  ],\n",
       "       [22.5625, 25.    , 27.5625],\n",
       "       [30.25  , 33.0625, 36.    ]])"
      ]
     },
     "execution_count": 2,
     "metadata": {},
     "output_type": "execute_result"
    }
   ],
   "source": [
    "import numpy as np\n",
    "a = (np.linspace(4,6,9)**2).reshape((3,3))\n"
   ]
  },
  {
   "cell_type": "markdown",
   "id": "c09bbec9-a2d9-4823-9570-e212ea93ded9",
   "metadata": {},
   "source": [
    "### 3. PCA (in class)\n",
    "\n",
    "- Take the data shown in our first plot of the PCA lecture notes:\n",
    "```\n",
    "rng = np.random.RandomState(1)\n",
    "X = np.dot(rng.rand(2, 2), rng.randn(2, 200)).T\n",
    "```\n",
    "\n",
    "![](Figure_pcademo1.png)\n",
    "\n",
    "\n",
    "Perform PCA on these data to produce the following plot:\n",
    "\n",
    "![](./pca_sampledata.png)\n",
    "\n",
    "\n",
    "\n",
    "Use the source code in ``pcademo3.py`` for plotting and guidance. \n",
    "\n",
    "**Hints**\n",
    "\n",
    "- look at the notes and the source code for ``pcademo3.py``.  In particular, look at where the PCA steps start (denoted by \"Step 1\").   What variable do you need to drop in here and then mean-subtract?\n",
    "-  There should be a block of code that produces the plot.   You can figure it out if you know what each variable stands for (i.e. if you can read the source code).  If not, putting in some commment lines to figure out where it is.\n",
    "-  To make the appearance of the plot match what we want, you need to set the x and y limits properly.  The block of code that will do this is:\n",
    "\n",
    "```\n",
    "  # Set x ticks\n",
    "  xl=ax[0].get_xlim()\n",
    "  yl=ax[0].get_ylim()\n",
    "  ax[1].set_xlim(xl)\n",
    "  ax[1].set_ylim(yl)\n",
    "  ax[2].set_xlim(-2.75,2.75)\n",
    "  ax[2].set_ylim(-0.425,0.325)\n",
    "  \n",
    "```\n",
    "\n"
   ]
  },
  {
   "cell_type": "markdown",
   "id": "6580a756-d4a8-44cf-9105-632f33e07c97",
   "metadata": {},
   "source": [
    "### 4. PCA and SVD (in class) \n",
    "\n",
    "Part 1\n",
    "\n",
    "- Create an array of random numbers with dimensions (7,3) ...\n",
    "\n",
    "- perform PCA on this array (remember all of the steps to PCA).  \n",
    "\n",
    "To produce a (3,3) covariance matrix, I recommend you do ``np.matmul(array.T,array)`` where \"array\" is your mean-subtracted array.  \n",
    "\n",
    "- starting with the _mean\\_subtracted_ version of the above array, perform SVD\n",
    "-  Compare the eigenvectors computed from PCA to the matrices computed from SVD.  Are there any similarities?\n",
    "-  Compare the eigenvalues computed from PCA to the singular values computed from SVD.   Are there any similarities or correlations?\n",
    "\n",
    "Part 2\n",
    "- Repeat part 1 except for a random (9,3) array.   \n",
    "\n",
    "\n",
    "What conclusions can you draw about PCA and eigendecomposition vs SVD from these results?"
   ]
  },
  {
   "cell_type": "markdown",
   "id": "b3b15c9e-9143-4561-883b-f1a65fc1d09d",
   "metadata": {},
   "source": [
    "### 5. A Simple PCA Calculation (in class) \n",
    "\n",
    "Start with the following array:\n",
    "\n",
    "```\n",
    "data=np.array([[7., 4., 3.],\n",
    "               [4., 1., 8.],\n",
    "               [6., 3., 5.],\n",
    "               [8., 6., 1.],\n",
    "               [8., 5., 7.],\n",
    "               [7., 2., 9.],\n",
    "               [5., 3., 3.],\n",
    "               [9., 5., 8.],\n",
    "               [7., 4., 5.],\n",
    "               [8., 2., 2.]])\n",
    "```\n",
    "\n",
    "Create a Python script (a file that will end with \".py\") containing a single Python **function** (you know, the things that start with \"def\") that performs PCA (steps 1--5), including the number of principal components as a keyword variable.   \n",
    "\n",
    "Demonstrate how to execute the function.   Run it where you retain i) 3 principal components and ii) 5 principal components.   Include a print statement within the function to print out the results.\n",
    "\n",
    "(**Note**: don't overthink this question.  I'm just asking you to write code to do a simple PCA calculation.   It's really just making sure you remember how to do PCA -- which you should since we are just covering it -- _and_ write Python functions, which we covered during the first week of class.)\n"
   ]
  },
  {
   "cell_type": "markdown",
   "id": "8856584d-9002-4261-9c48-24aaffd38c9a",
   "metadata": {},
   "source": [
    "### 6. Root-Finding/Minimization (LM algorithm)\n",
    "\n",
    "Consider the function $f(x) = x^{2}+-5*x+1.5*cos(x^{2}) + sin(x)$\n",
    "\n",
    "* Find the roots of this function using the Levenberg-Marquardt algorithm\n",
    "* Verify your answer by calculating $f(x)$ at the value of these roots\n",
    "\n"
   ]
  },
  {
   "cell_type": "markdown",
   "id": "fa1c35c6-cd91-4dcc-b471-cf714d6a74c7",
   "metadata": {},
   "source": [
    "### 7. Root-Finding/Minimization (Newton-Raphson)\n",
    "\n",
    "Consider the function $2x^{3}+3x^{2}-4x-5$\n",
    "\n",
    "* Compute the value of this function at integers 1, 2,3, 4,and 5.\n",
    "* Based on the above give a starting guess for the integer closest to the root of this function\n",
    "* Use the definition of the Newton-Raphson method, to estimate the first update of the root of this function from:\n",
    "\n",
    "      $x_{1}$ = $x_{o}$ - $f(x_{o})$/$f^{\\prime}(x_{o})$\n",
    "      \n",
    "      (Note: it is easiest to define two functions -- func(x) and funcd(x) -- corresponding to the function and its derivative at some value x and call these functions in your manual N-R first estimate\n",
    "      \n",
    "      \n",
    "* Compute the real root estimate from the Newton-Raphson method using again your starting integer value.  \n",
    "* Verify that your solution is indeed a root of this function\n",
    "\n",
    "* How close were you to the solution from just the first iteration?\n"
   ]
  },
  {
   "cell_type": "markdown",
   "id": "fa4411b5-08e8-4de5-bd43-3d6cf01e6a6d",
   "metadata": {},
   "source": [
    "### 8. Course Project \n",
    "\n",
    "By now, hopefully you have either refreshed your memory of basic Python code, NumPy operations, and numerical linear algebra or have learned a lot.  We will be covering some very basic fitting routines with SciPy next before moving on to plotting and displaying data with Matplotlib.\n",
    "\n",
    "So now would be a good time to think about what you _might_ be interested in learning more about for your Class Project that is not covered explicitly in the syllabus/course schedule.\n",
    "\n",
    "* What type of Project do you currently think you would like to focus on? \n",
    "\n",
    "I will try to give you some feedback and hopefully we can define a project that you will find interesting and helpful.\n"
   ]
  },
  {
   "cell_type": "markdown",
   "id": "bb00e7e0-e253-499e-a20c-e4cfb148b575",
   "metadata": {},
   "source": [
    "### 9. Feedback\n",
    "\n",
    "We are now about 5 weeks into the course (about 1/3 of the way done!).  Structurally, what in your opinion is working with the course? What is not working?"
   ]
  },
  {
   "cell_type": "code",
   "execution_count": null,
   "id": "0117072b-1d83-4818-84d4-077861b58be9",
   "metadata": {},
   "outputs": [],
   "source": []
  }
 ],
 "metadata": {
  "kernelspec": {
   "display_name": "Python 3 (ipykernel)",
   "language": "python",
   "name": "python3"
  },
  "language_info": {
   "codemirror_mode": {
    "name": "ipython",
    "version": 3
   },
   "file_extension": ".py",
   "mimetype": "text/x-python",
   "name": "python",
   "nbconvert_exporter": "python",
   "pygments_lexer": "ipython3",
   "version": "3.9.18"
  }
 },
 "nbformat": 4,
 "nbformat_minor": 5
}
