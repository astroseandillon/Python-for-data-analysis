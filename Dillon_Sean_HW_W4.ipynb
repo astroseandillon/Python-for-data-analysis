{
 "cells": [
  {
   "cell_type": "markdown",
   "id": "b70513d1-58b5-42b4-994a-6c25ba9f189c",
   "metadata": {},
   "source": [
    "### 1. Sequence Function (in-class)"
   ]
  },
  {
   "cell_type": "code",
   "execution_count": 12,
   "id": "a263032c-b79d-4bd3-908d-34733bb6aa0b",
   "metadata": {},
   "outputs": [
    {
     "name": "stdout",
     "output_type": "stream",
     "text": [
      "Best line of the episode Eegah in season 5 was Watch out for Snakes\n",
      "Best line of the episode Deathstalker in season 7 was He's Batman\n",
      "Best line of the episode Space Mutiny in season 8 was Big McLarge Huge\n"
     ]
    }
   ],
   "source": [
    "episode = ['Eegah', 'Deathstalker', 'Space Mutiny']\n",
    "line = ['Watch out for Snakes', \"He's Batman\", \"Big McLarge Huge\"]\n",
    "season = [5,7,8]\n",
    "biglist = list(zip(episode, line, season))\n",
    "for i in range(len(biglist)):\n",
    "    print(\"Best line of the episode {} in season {} was {}\".format(biglist[i][0], biglist[i][2], biglist[i][1]))"
   ]
  },
  {
   "cell_type": "markdown",
   "id": "2ea14d35-9296-4551-b9f1-3b82e6467b49",
   "metadata": {},
   "source": [
    "### 2. Sequence Function\n",
    "\n",
    "Consider the example shown in the data struct part 3 notes of the list comprehension for four stars wth different names HIP 99770, AF Lep, HR 8799, Vega.. It used zip to advance each element of starname, spectype, starmag, and dstar\n",
    "\n",
    "Now, add the use of enumerate to write a for-loop printing out the number of the star in the list and an indexed version ofabsmag at each interation and then print the full array of absmag outside of the for-loop. "
   ]
  },
  {
   "cell_type": "code",
   "execution_count": 14,
   "id": "ac33b1f6-e910-4461-a4a0-c81c136cab41",
   "metadata": {},
   "outputs": [
    {
     "name": "stdout",
     "output_type": "stream",
     "text": [
      "The absolute magnitude of star HIP 99770 with spectral type A5V is 1.850\n",
      "The absolute magnitude of star AF Lep with spectral type F8V is 4.159\n",
      "The absolute magnitude of star HR 8799 with spectral type F0V is 2.923\n",
      "The absolute magnitude of star Vega with spectral type A0V is 0.568\n"
     ]
    }
   ],
   "source": [
    "import numpy as np\n",
    "starname=['HIP 99770','AF Lep','HR 8799','Vega']\n",
    "spectype=['A5V','F8V','F0V','A0V']\n",
    "starmag=np.array([4.9,6.3,5.9,0.0])\n",
    "dstar=np.array([40.74,26.8, 39.4, 7.7])\n",
    "\n",
    "for i,j,k,l in zip(starname,spectype,starmag,dstar):\n",
    " absmag=k-5*np.log10(l/10.)\n",
    " print('The absolute magnitude of star {0:s} with spectral type {1:s} is {2:.3f}'.format(i,j,absmag))"
   ]
  },
  {
   "cell_type": "code",
   "execution_count": 20,
   "id": "8d687e88-2e7a-4a7d-b5a7-61baaf9cd454",
   "metadata": {},
   "outputs": [
    {
     "name": "stdout",
     "output_type": "stream",
     "text": [
      "The absolute magnitude of star number 1 with name HIP 99770 with spectral type A5V is 1.850\n",
      "The absolute magnitude of star number 2 with name AF Lep with spectral type F8V is 4.159\n",
      "The absolute magnitude of star number 3 with name HR 8799 with spectral type F0V is 2.923\n",
      "The absolute magnitude of star number 4 with name Vega with spectral type A0V is 0.568\n"
     ]
    }
   ],
   "source": [
    "for h,(i,j,k,l) in enumerate(zip(starname,spectype,starmag,dstar)):\n",
    "    absmag=k-5*np.log10(l/10.)\n",
    "    print('The absolute magnitude of star number {0} with name {1:s} with spectral type {2} is {3:.3f}'.format(h+1,i,j,absmag))"
   ]
  },
  {
   "cell_type": "code",
   "execution_count": null,
   "id": "f2bdc25d-f95e-4a00-bb6e-cd70936ec08c",
   "metadata": {},
   "outputs": [],
   "source": []
  }
 ],
 "metadata": {
  "kernelspec": {
   "display_name": "Python 3 (ipykernel)",
   "language": "python",
   "name": "python3"
  },
  "language_info": {
   "codemirror_mode": {
    "name": "ipython",
    "version": 3
   },
   "file_extension": ".py",
   "mimetype": "text/x-python",
   "name": "python",
   "nbconvert_exporter": "python",
   "pygments_lexer": "ipython3",
   "version": "3.9.18"
  }
 },
 "nbformat": 4,
 "nbformat_minor": 5
}
